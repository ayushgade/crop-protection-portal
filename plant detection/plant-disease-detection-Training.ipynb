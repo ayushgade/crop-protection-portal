{
 "cells": [
  {
   "cell_type": "code",
   "execution_count": 1,
   "metadata": {
    "_cell_guid": "b1076dfc-b9ad-4769-8c92-a6c4dae69d19",
    "_uuid": "8f2839f25d086af736a60e9eeb907d3b93b6e0e5",
    "executionInfo": {
     "elapsed": 3963,
     "status": "ok",
     "timestamp": 1604373982787,
     "user": {
      "displayName": "Vaibhav Wagaskar",
      "photoUrl": "",
      "userId": "18291676089604901220"
     },
     "user_tz": -330
    },
    "id": "xCKnyjhD4ZRB"
   },
   "outputs": [],
   "source": [
    "import numpy as np\n",
    "import pickle\n",
    "import cv2\n",
    "from os import listdir\n",
    "from sklearn.preprocessing import LabelBinarizer\n",
    "from keras.models import Sequential\n",
    "from tensorflow.keras.layers import (\n",
    "    BatchNormalization, SeparableConv2D, MaxPooling2D, Activation, Flatten, Dropout, Dense\n",
    ")\n",
    "from keras.layers.convolutional import Conv2D\n",
    "from keras.layers.convolutional import MaxPooling2D\n",
    "from keras.layers.core import Activation, Flatten, Dropout, Dense\n",
    "from keras import backend as K\n",
    "from keras.preprocessing.image import ImageDataGenerator\n",
    "from keras.optimizers import Adam\n",
    "from keras.preprocessing import image\n",
    "from tensorflow.keras.utils import img_to_array\n",
    "from sklearn.preprocessing import MultiLabelBinarizer\n",
    "from sklearn.model_selection import train_test_split\n",
    "import matplotlib.pyplot as plt"
   ]
  },
  {
   "cell_type": "code",
   "execution_count": 2,
   "metadata": {
    "_uuid": "7c3354a78e21a1a62ad0c4689d0ab3238fb760d4",
    "executionInfo": {
     "elapsed": 1640,
     "status": "ok",
     "timestamp": 1604376680114,
     "user": {
      "displayName": "Vaibhav Wagaskar",
      "photoUrl": "",
      "userId": "18291676089604901220"
     },
     "user_tz": -330
    },
    "id": "V0hJUAWM4ZRQ"
   },
   "outputs": [],
   "source": [
    "EPOCHS = 35\n",
    "INIT_LR = 1e-3\n",
    "BS = 32\n",
    "default_image_size = tuple((100,100))\n",
    "image_size = 0\n",
    "directory_root = 'data'\n",
    "width=100\n",
    "height=100\n",
    "depth=3"
   ]
  },
  {
   "attachments": {},
   "cell_type": "markdown",
   "metadata": {
    "_uuid": "2bf7ac0a0b805946f844a48e55d5281403e53f57",
    "id": "mEQmN0WS4ZRd"
   },
   "source": [
    "Function to convert images to array"
   ]
  },
  {
   "cell_type": "code",
   "execution_count": 3,
   "metadata": {
    "_uuid": "c9c3e60b13ace6c8f3e54336e12f9970fde438a3",
    "executionInfo": {
     "elapsed": 1737,
     "status": "ok",
     "timestamp": 1604374005150,
     "user": {
      "displayName": "Vaibhav Wagaskar",
      "photoUrl": "",
      "userId": "18291676089604901220"
     },
     "user_tz": -330
    },
    "id": "RcbRlrTH4ZRe"
   },
   "outputs": [],
   "source": [
    "def convert_image_to_array(image_dir):\n",
    "    try:\n",
    "        image = cv2.imread(image_dir)\n",
    "        if image is not None :\n",
    "            image = cv2.resize(image, default_image_size)   \n",
    "            return img_to_array(image)\n",
    "        else :\n",
    "            return np.array([])\n",
    "    except Exception as e:\n",
    "        print(f\"Error : {e}\")\n",
    "        return None"
   ]
  },
  {
   "attachments": {},
   "cell_type": "markdown",
   "metadata": {
    "_uuid": "24d42b87fad54a9556f78357ce673cc5152468c1",
    "id": "ChLlyJ7z4ZRn"
   },
   "source": [
    "Fetch images from directory"
   ]
  },
  {
   "cell_type": "code",
   "execution_count": 4,
   "metadata": {
    "_uuid": "bb8d4c343314028f52ae3c3a840478a834a16c95",
    "colab": {
     "base_uri": "https://localhost:8080/"
    },
    "executionInfo": {
     "elapsed": 2276008,
     "status": "ok",
     "timestamp": 1604376284749,
     "user": {
      "displayName": "Vaibhav Wagaskar",
      "photoUrl": "",
      "userId": "18291676089604901220"
     },
     "user_tz": -330
    },
    "id": "hKYlYiCt4ZRp",
    "outputId": "5e62504e-b915-40be-cabb-200b6996252e"
   },
   "outputs": [
    {
     "name": "stdout",
     "output_type": "stream",
     "text": [
      "[INFO] Loading images ...\n",
      "[INFO] Processing Corn_Blight (1).jpeg ...\n",
      "[INFO] Processing Corn_Blight (1).jpg ...\n",
      "[INFO] Processing Corn_Blight (10).jpg ...\n",
      "[INFO] Processing Corn_Blight (100).jpg ...\n",
      "[INFO] Processing Corn_Blight (101).jpg ...\n",
      "[INFO] Processing Corn_Blight (102).jpg ...\n",
      "[INFO] Processing Corn_Blight (103).jpg ...\n",
      "[INFO] Processing Corn_Blight (104).jpg ...\n",
      "[INFO] Processing Corn_Blight (105).jpg ...\n",
      "[INFO] Processing Corn_Blight (106).jpg ...\n",
      "[INFO] Processing Corn_Blight (107).jpg ...\n",
      "[INFO] Processing Corn_Blight (108).jpg ...\n",
      "[INFO] Processing Corn_Blight (109).jpg ...\n",
      "[INFO] Processing Corn_Blight (11).jpg ...\n",
      "[INFO] Processing Corn_Blight (110).jpg ...\n",
      "[INFO] Processing Corn_Blight (111).JPG ...\n",
      "[INFO] Processing Corn_Blight (112).JPG ...\n",
      "[INFO] Processing Corn_Blight (113).JPG ...\n",
      "[INFO] Processing Corn_Blight (114).JPG ...\n",
      "[INFO] Processing Corn_Blight (115).JPG ...\n",
      "[INFO] Processing Corn_Blight (116).JPG ...\n",
      "[INFO] Processing Corn_Blight (117).JPG ...\n",
      "[INFO] Processing Corn_Blight (118).JPG ...\n",
      "[INFO] Processing Corn_Blight (119).JPG ...\n",
      "[INFO] Processing Corn_Blight (12).jpg ...\n",
      "[INFO] Processing Corn_Blight (13).jpg ...\n",
      "[INFO] Processing Corn_Blight (14).jpg ...\n",
      "[INFO] Processing Corn_Blight (15).jpg ...\n",
      "[INFO] Processing Corn_Blight (16).jpg ...\n",
      "[INFO] Processing Corn_Blight (17).jpg ...\n",
      "[INFO] Processing Corn_Blight (18).jpg ...\n",
      "[INFO] Processing Corn_Blight (19).jpg ...\n",
      "[INFO] Processing Corn_Blight (2).jpg ...\n",
      "[INFO] Processing Corn_Blight (20).jpg ...\n",
      "[INFO] Processing Corn_Blight (21).jpg ...\n",
      "[INFO] Processing Corn_Blight (22).jpg ...\n",
      "[INFO] Processing Corn_Blight (23).jpg ...\n",
      "[INFO] Processing Corn_Blight (24).jpg ...\n",
      "[INFO] Processing Corn_Blight (25).jpg ...\n",
      "[INFO] Processing Corn_Blight (26).jpg ...\n",
      "[INFO] Processing Corn_Blight (27).jpg ...\n",
      "[INFO] Processing Corn_Blight (28).jpg ...\n",
      "[INFO] Processing Corn_Blight (29).jpg ...\n",
      "[INFO] Processing Corn_Blight (3).jpg ...\n",
      "[INFO] Processing Corn_Blight (30).jpg ...\n",
      "[INFO] Processing Corn_Blight (31).jpg ...\n",
      "[INFO] Processing Corn_Blight (32).jpg ...\n",
      "[INFO] Processing Corn_Blight (33).jpg ...\n",
      "[INFO] Processing Corn_Blight (34).jpg ...\n",
      "[INFO] Processing Corn_Blight (35).jpg ...\n",
      "[INFO] Processing Corn_Blight (36).jpg ...\n",
      "[INFO] Processing Corn_Blight (37).jpg ...\n",
      "[INFO] Processing Corn_Blight (38).jpg ...\n",
      "[INFO] Processing Corn_Blight (39).jpg ...\n",
      "[INFO] Processing Corn_Blight (4).jpg ...\n",
      "[INFO] Processing Corn_Blight (40).jpg ...\n",
      "[INFO] Processing Corn_Blight (41).jpg ...\n",
      "[INFO] Processing Corn_Blight (42).jpg ...\n",
      "[INFO] Processing Corn_Blight (43).jpg ...\n",
      "[INFO] Processing Corn_Blight (44).jpg ...\n",
      "[INFO] Processing Corn_Blight (45).jpg ...\n",
      "[INFO] Processing Corn_Blight (46).jpg ...\n",
      "[INFO] Processing Corn_Blight (47).jpg ...\n",
      "[INFO] Processing Corn_Blight (48).jpg ...\n",
      "[INFO] Processing Corn_Blight (49).jpg ...\n",
      "[INFO] Processing Corn_Blight (5).jpg ...\n",
      "[INFO] Processing Corn_Blight (50).jpg ...\n",
      "[INFO] Processing Corn_Blight (51).jpg ...\n",
      "[INFO] Processing Corn_Blight (52).jpg ...\n",
      "[INFO] Processing Corn_Blight (53).jpg ...\n",
      "[INFO] Processing Corn_Blight (54).jpg ...\n",
      "[INFO] Processing Corn_Blight (55).jpg ...\n",
      "[INFO] Processing Corn_Blight (56).jpg ...\n",
      "[INFO] Processing Corn_Blight (57).jpg ...\n",
      "[INFO] Processing Corn_Blight (58).jpg ...\n",
      "[INFO] Processing Corn_Blight (59).jpg ...\n",
      "[INFO] Processing Corn_Blight (6).jpg ...\n",
      "[INFO] Processing Corn_Blight (60).jpg ...\n",
      "[INFO] Processing Corn_Blight (61).jpg ...\n",
      "[INFO] Processing Corn_Blight (62).jpg ...\n",
      "[INFO] Processing Corn_Blight (63).jpg ...\n",
      "[INFO] Processing Corn_Blight (64).jpg ...\n",
      "[INFO] Processing Corn_Blight (65).jpg ...\n",
      "[INFO] Processing Corn_Blight (66).jpg ...\n",
      "[INFO] Processing Corn_Blight (67).jpg ...\n",
      "[INFO] Processing Corn_Blight (68).jpg ...\n",
      "[INFO] Processing Corn_Blight (69).jpg ...\n",
      "[INFO] Processing Corn_Blight (7).jpg ...\n",
      "[INFO] Processing Corn_Blight (70).jpg ...\n",
      "[INFO] Processing Corn_Blight (71).jpg ...\n",
      "[INFO] Processing Corn_Blight (72).jpg ...\n",
      "[INFO] Processing Corn_Blight (73).jpg ...\n",
      "[INFO] Processing Corn_Blight (74).jpg ...\n",
      "[INFO] Processing Corn_Blight (75).jpg ...\n",
      "[INFO] Processing Corn_Blight (76).jpg ...\n",
      "[INFO] Processing Corn_Blight (77).jpg ...\n",
      "[INFO] Processing Corn_Blight (78).jpg ...\n",
      "[INFO] Processing Corn_Blight (79).jpg ...\n",
      "[INFO] Processing Corn_Blight (8).jpg ...\n",
      "[INFO] Processing Corn_Blight (80).jpg ...\n",
      "[INFO] Processing Corn_Blight (81).jpg ...\n",
      "[INFO] Processing Corn_Blight (82).jpg ...\n",
      "[INFO] Processing Corn_Blight (83).jpg ...\n",
      "[INFO] Processing Corn_Blight (84).jpg ...\n",
      "[INFO] Processing Corn_Blight (85).jpg ...\n",
      "[INFO] Processing Corn_Blight (86).jpg ...\n",
      "[INFO] Processing Corn_Blight (87).jpg ...\n",
      "[INFO] Processing Corn_Blight (88).jpg ...\n",
      "[INFO] Processing Corn_Blight (89).jpg ...\n",
      "[INFO] Processing Corn_Blight (9).jpg ...\n",
      "[INFO] Processing Corn_Blight (90).jpg ...\n",
      "[INFO] Processing Corn_Blight (91).jpg ...\n",
      "[INFO] Processing Corn_Blight (92).jpg ...\n",
      "[INFO] Processing Corn_Blight (93).jpg ...\n",
      "[INFO] Processing Corn_Blight (94).jpg ...\n",
      "[INFO] Processing Corn_Blight (95).jpg ...\n",
      "[INFO] Processing Corn_Blight (96).jpg ...\n",
      "[INFO] Processing Corn_Blight (97).jpg ...\n",
      "[INFO] Processing Corn_Blight (98).jpg ...\n",
      "[INFO] Processing Corn_Blight (99).jpg ...\n",
      "[INFO] Processing Corn_Common_Rust (1).jpg ...\n",
      "[INFO] Processing Corn_Common_Rust (10).jpg ...\n",
      "[INFO] Processing Corn_Common_Rust (100).JPG ...\n",
      "[INFO] Processing Corn_Common_Rust (101).JPG ...\n",
      "[INFO] Processing Corn_Common_Rust (102).JPG ...\n",
      "[INFO] Processing Corn_Common_Rust (103).JPG ...\n",
      "[INFO] Processing Corn_Common_Rust (104).JPG ...\n",
      "[INFO] Processing Corn_Common_Rust (105).JPG ...\n",
      "[INFO] Processing Corn_Common_Rust (106).JPG ...\n",
      "[INFO] Processing Corn_Common_Rust (107).JPG ...\n",
      "[INFO] Processing Corn_Common_Rust (108).JPG ...\n",
      "[INFO] Processing Corn_Common_Rust (11).jpg ...\n",
      "[INFO] Processing Corn_Common_Rust (12).jpg ...\n",
      "[INFO] Processing Corn_Common_Rust (13).jpg ...\n",
      "[INFO] Processing Corn_Common_Rust (14).jpg ...\n",
      "[INFO] Processing Corn_Common_Rust (15).jpg ...\n",
      "[INFO] Processing Corn_Common_Rust (16).jpg ...\n",
      "[INFO] Processing Corn_Common_Rust (17).jpg ...\n",
      "[INFO] Processing Corn_Common_Rust (18).jpg ...\n",
      "[INFO] Processing Corn_Common_Rust (19).jpg ...\n",
      "[INFO] Processing Corn_Common_Rust (2).jpg ...\n",
      "[INFO] Processing Corn_Common_Rust (20).jpg ...\n",
      "[INFO] Processing Corn_Common_Rust (21).jpg ...\n",
      "[INFO] Processing Corn_Common_Rust (22).jpg ...\n",
      "[INFO] Processing Corn_Common_Rust (23).jpg ...\n",
      "[INFO] Processing Corn_Common_Rust (24).jpg ...\n",
      "[INFO] Processing Corn_Common_Rust (25).jpg ...\n",
      "[INFO] Processing Corn_Common_Rust (26).jpg ...\n",
      "[INFO] Processing Corn_Common_Rust (27).jpg ...\n",
      "[INFO] Processing Corn_Common_Rust (28).jpg ...\n",
      "[INFO] Processing Corn_Common_Rust (29).jpg ...\n",
      "[INFO] Processing Corn_Common_Rust (3).jpg ...\n",
      "[INFO] Processing Corn_Common_Rust (30).jpg ...\n",
      "[INFO] Processing Corn_Common_Rust (31).jpg ...\n",
      "[INFO] Processing Corn_Common_Rust (32).jpg ...\n",
      "[INFO] Processing Corn_Common_Rust (33).jpg ...\n",
      "[INFO] Processing Corn_Common_Rust (34).jpg ...\n",
      "[INFO] Processing Corn_Common_Rust (35).jpg ...\n",
      "[INFO] Processing Corn_Common_Rust (36).jpg ...\n",
      "[INFO] Processing Corn_Common_Rust (37).jpg ...\n",
      "[INFO] Processing Corn_Common_Rust (38).jpg ...\n",
      "[INFO] Processing Corn_Common_Rust (39).jpg ...\n",
      "[INFO] Processing Corn_Common_Rust (4).jpg ...\n",
      "[INFO] Processing Corn_Common_Rust (40).jpg ...\n",
      "[INFO] Processing Corn_Common_Rust (41).jpg ...\n",
      "[INFO] Processing Corn_Common_Rust (42).jpg ...\n",
      "[INFO] Processing Corn_Common_Rust (43).jpg ...\n",
      "[INFO] Processing Corn_Common_Rust (44).jpg ...\n",
      "[INFO] Processing Corn_Common_Rust (45).jpg ...\n",
      "[INFO] Processing Corn_Common_Rust (46).jpg ...\n",
      "[INFO] Processing Corn_Common_Rust (47).jpg ...\n",
      "[INFO] Processing Corn_Common_Rust (48).jpg ...\n",
      "[INFO] Processing Corn_Common_Rust (49).jpg ...\n",
      "[INFO] Processing Corn_Common_Rust (5).jpg ...\n",
      "[INFO] Processing Corn_Common_Rust (50).jpg ...\n",
      "[INFO] Processing Corn_Common_Rust (51).jpg ...\n",
      "[INFO] Processing Corn_Common_Rust (52).jpg ...\n",
      "[INFO] Processing Corn_Common_Rust (53).jpg ...\n",
      "[INFO] Processing Corn_Common_Rust (54).jpg ...\n",
      "[INFO] Processing Corn_Common_Rust (55).jpg ...\n",
      "[INFO] Processing Corn_Common_Rust (56).jpg ...\n",
      "[INFO] Processing Corn_Common_Rust (57).jpg ...\n",
      "[INFO] Processing Corn_Common_Rust (58).jpg ...\n",
      "[INFO] Processing Corn_Common_Rust (59).jpg ...\n",
      "[INFO] Processing Corn_Common_Rust (6).jpg ...\n",
      "[INFO] Processing Corn_Common_Rust (60).jpg ...\n",
      "[INFO] Processing Corn_Common_Rust (61).jpg ...\n",
      "[INFO] Processing Corn_Common_Rust (62).jpg ...\n",
      "[INFO] Processing Corn_Common_Rust (63).jpg ...\n",
      "[INFO] Processing Corn_Common_Rust (64).jpg ...\n",
      "[INFO] Processing Corn_Common_Rust (65).jpg ...\n",
      "[INFO] Processing Corn_Common_Rust (66).jpg ...\n",
      "[INFO] Processing Corn_Common_Rust (67).jpg ...\n",
      "[INFO] Processing Corn_Common_Rust (68).jpg ...\n",
      "[INFO] Processing Corn_Common_Rust (69).jpg ...\n",
      "[INFO] Processing Corn_Common_Rust (7).jpg ...\n",
      "[INFO] Processing Corn_Common_Rust (70).jpg ...\n",
      "[INFO] Processing Corn_Common_Rust (71).jpg ...\n",
      "[INFO] Processing Corn_Common_Rust (72).JPG ...\n",
      "[INFO] Processing Corn_Common_Rust (73).JPG ...\n",
      "[INFO] Processing Corn_Common_Rust (74).JPG ...\n",
      "[INFO] Processing Corn_Common_Rust (75).JPG ...\n",
      "[INFO] Processing Corn_Common_Rust (76).JPG ...\n",
      "[INFO] Processing Corn_Common_Rust (77).JPG ...\n",
      "[INFO] Processing Corn_Common_Rust (78).JPG ...\n",
      "[INFO] Processing Corn_Common_Rust (79).JPG ...\n",
      "[INFO] Processing Corn_Common_Rust (8).jpg ...\n",
      "[INFO] Processing Corn_Common_Rust (80).JPG ...\n",
      "[INFO] Processing Corn_Common_Rust (81).JPG ...\n",
      "[INFO] Processing Corn_Common_Rust (82).JPG ...\n",
      "[INFO] Processing Corn_Common_Rust (83).JPG ...\n",
      "[INFO] Processing Corn_Common_Rust (84).JPG ...\n",
      "[INFO] Processing Corn_Common_Rust (85).JPG ...\n",
      "[INFO] Processing Corn_Common_Rust (86).JPG ...\n",
      "[INFO] Processing Corn_Common_Rust (87).JPG ...\n",
      "[INFO] Processing Corn_Common_Rust (88).JPG ...\n",
      "[INFO] Processing Corn_Common_Rust (89).JPG ...\n",
      "[INFO] Processing Corn_Common_Rust (9).jpg ...\n",
      "[INFO] Processing Corn_Common_Rust (90).JPG ...\n",
      "[INFO] Processing Corn_Common_Rust (91).JPG ...\n",
      "[INFO] Processing Corn_Common_Rust (92).JPG ...\n",
      "[INFO] Processing Corn_Common_Rust (93).JPG ...\n",
      "[INFO] Processing Corn_Common_Rust (94).JPG ...\n",
      "[INFO] Processing Corn_Common_Rust (95).JPG ...\n",
      "[INFO] Processing Corn_Common_Rust (96).JPG ...\n",
      "[INFO] Processing Corn_Common_Rust (97).JPG ...\n",
      "[INFO] Processing Corn_Common_Rust (98).JPG ...\n",
      "[INFO] Processing Corn_Common_Rust (99).JPG ...\n",
      "[INFO] Processing Corn_Gray_Spot (1).jpg ...\n",
      "[INFO] Processing Corn_Gray_Spot (10).jpg ...\n",
      "[INFO] Processing Corn_Gray_Spot (11).jpg ...\n",
      "[INFO] Processing Corn_Gray_Spot (12).jpg ...\n",
      "[INFO] Processing Corn_Gray_Spot (13).jpg ...\n",
      "[INFO] Processing Corn_Gray_Spot (14).jpg ...\n",
      "[INFO] Processing Corn_Gray_Spot (15).jpg ...\n",
      "[INFO] Processing Corn_Gray_Spot (16).jpg ...\n",
      "[INFO] Processing Corn_Gray_Spot (17).jpg ...\n",
      "[INFO] Processing Corn_Gray_Spot (18).jpg ...\n",
      "[INFO] Processing Corn_Gray_Spot (19).jpg ...\n",
      "[INFO] Processing Corn_Gray_Spot (2).jpg ...\n",
      "[INFO] Processing Corn_Gray_Spot (20).jpg ...\n",
      "[INFO] Processing Corn_Gray_Spot (21).jpg ...\n",
      "[INFO] Processing Corn_Gray_Spot (22).jpg ...\n",
      "[INFO] Processing Corn_Gray_Spot (23).jpg ...\n",
      "[INFO] Processing Corn_Gray_Spot (24).jpg ...\n",
      "[INFO] Processing Corn_Gray_Spot (25).jpg ...\n",
      "[INFO] Processing Corn_Gray_Spot (26).jpg ...\n",
      "[INFO] Processing Corn_Gray_Spot (27).jpg ...\n",
      "[INFO] Processing Corn_Gray_Spot (28).jpg ...\n",
      "[INFO] Processing Corn_Gray_Spot (29).jpg ...\n",
      "[INFO] Processing Corn_Gray_Spot (3).jpg ...\n",
      "[INFO] Processing Corn_Gray_Spot (30).jpg ...\n",
      "[INFO] Processing Corn_Gray_Spot (31).jpg ...\n",
      "[INFO] Processing Corn_Gray_Spot (32).jpg ...\n",
      "[INFO] Processing Corn_Gray_Spot (33).jpg ...\n",
      "[INFO] Processing Corn_Gray_Spot (34).jpg ...\n",
      "[INFO] Processing Corn_Gray_Spot (35).jpg ...\n",
      "[INFO] Processing Corn_Gray_Spot (36).jpg ...\n",
      "[INFO] Processing Corn_Gray_Spot (37).jpg ...\n",
      "[INFO] Processing Corn_Gray_Spot (38).jpg ...\n",
      "[INFO] Processing Corn_Gray_Spot (39).jpg ...\n",
      "[INFO] Processing Corn_Gray_Spot (4).jpg ...\n",
      "[INFO] Processing Corn_Gray_Spot (40).jpg ...\n",
      "[INFO] Processing Corn_Gray_Spot (41).jpg ...\n",
      "[INFO] Processing Corn_Gray_Spot (42).jpg ...\n",
      "[INFO] Processing Corn_Gray_Spot (43).jpg ...\n",
      "[INFO] Processing Corn_Gray_Spot (44).jpg ...\n",
      "[INFO] Processing Corn_Gray_Spot (45).jpg ...\n",
      "[INFO] Processing Corn_Gray_Spot (46).jpg ...\n",
      "[INFO] Processing Corn_Gray_Spot (47).jpg ...\n",
      "[INFO] Processing Corn_Gray_Spot (48).jpg ...\n",
      "[INFO] Processing Corn_Gray_Spot (49).JPG ...\n",
      "[INFO] Processing Corn_Gray_Spot (5).jpg ...\n",
      "[INFO] Processing Corn_Gray_Spot (50).JPG ...\n",
      "[INFO] Processing Corn_Gray_Spot (51).JPG ...\n",
      "[INFO] Processing Corn_Gray_Spot (52).jpg ...\n",
      "[INFO] Processing Corn_Gray_Spot (53).JPG ...\n",
      "[INFO] Processing Corn_Gray_Spot (54).JPG ...\n",
      "[INFO] Processing Corn_Gray_Spot (55).jpg ...\n",
      "[INFO] Processing Corn_Gray_Spot (56).JPG ...\n",
      "[INFO] Processing Corn_Gray_Spot (57).JPG ...\n",
      "[INFO] Processing Corn_Gray_Spot (58).JPG ...\n",
      "[INFO] Processing Corn_Gray_Spot (59).JPG ...\n",
      "[INFO] Processing Corn_Gray_Spot (6).jpg ...\n",
      "[INFO] Processing Corn_Gray_Spot (60).JPG ...\n",
      "[INFO] Processing Corn_Gray_Spot (61).JPG ...\n",
      "[INFO] Processing Corn_Gray_Spot (62).JPG ...\n",
      "[INFO] Processing Corn_Gray_Spot (63).JPG ...\n",
      "[INFO] Processing Corn_Gray_Spot (64).JPG ...\n",
      "[INFO] Processing Corn_Gray_Spot (65).JPG ...\n",
      "[INFO] Processing Corn_Gray_Spot (66).JPG ...\n",
      "[INFO] Processing Corn_Gray_Spot (67).JPG ...\n",
      "[INFO] Processing Corn_Gray_Spot (68).jpg ...\n",
      "[INFO] Processing Corn_Gray_Spot (69).JPG ...\n",
      "[INFO] Processing Corn_Gray_Spot (7).jpg ...\n",
      "[INFO] Processing Corn_Gray_Spot (70).JPG ...\n",
      "[INFO] Processing Corn_Gray_Spot (71).JPG ...\n",
      "[INFO] Processing Corn_Gray_Spot (72).JPG ...\n",
      "[INFO] Processing Corn_Gray_Spot (73).JPG ...\n",
      "[INFO] Processing Corn_Gray_Spot (74).JPG ...\n",
      "[INFO] Processing Corn_Gray_Spot (75).jpg ...\n",
      "[INFO] Processing Corn_Gray_Spot (76).JPG ...\n",
      "[INFO] Processing Corn_Gray_Spot (77).JPG ...\n",
      "[INFO] Processing Corn_Gray_Spot (78).JPG ...\n",
      "[INFO] Processing Corn_Gray_Spot (79).jpg ...\n",
      "[INFO] Processing Corn_Gray_Spot (8).jpg ...\n",
      "[INFO] Processing Corn_Gray_Spot (80).JPG ...\n",
      "[INFO] Processing Corn_Gray_Spot (81).JPG ...\n",
      "[INFO] Processing Corn_Gray_Spot (82).JPG ...\n",
      "[INFO] Processing Corn_Gray_Spot (83).JPG ...\n",
      "[INFO] Processing Corn_Gray_Spot (84).JPG ...\n",
      "[INFO] Processing Corn_Gray_Spot (85).JPG ...\n",
      "[INFO] Processing Corn_Gray_Spot (86).JPG ...\n",
      "[INFO] Processing Corn_Gray_Spot (87).JPG ...\n",
      "[INFO] Processing Corn_Gray_Spot (88).JPG ...\n",
      "[INFO] Processing Corn_Gray_Spot (89).JPG ...\n",
      "[INFO] Processing Corn_Gray_Spot (9).jpg ...\n",
      "[INFO] Processing Corn_Gray_Spot (90).JPG ...\n",
      "[INFO] Processing Corn_Gray_Spot (91).JPG ...\n",
      "[INFO] Processing Corn_Gray_Spot (92).JPG ...\n",
      "[INFO] Processing Corn_Gray_Spot (93).JPG ...\n",
      "[INFO] Processing Corn_Gray_Spot (94).JPG ...\n",
      "[INFO] Processing Corn_Gray_Spot (95).JPG ...\n",
      "[INFO] Processing Corn_Gray_Spot (96).JPG ...\n",
      "[INFO] Processing Corn_Health (1).jpg ...\n",
      "[INFO] Processing Corn_Health (10).jpg ...\n",
      "[INFO] Processing Corn_Health (11).jpg ...\n",
      "[INFO] Processing Corn_Health (12).jpg ...\n",
      "[INFO] Processing Corn_Health (13).jpg ...\n",
      "[INFO] Processing Corn_Health (14).jpg ...\n",
      "[INFO] Processing Corn_Health (15).jpg ...\n",
      "[INFO] Processing Corn_Health (16).jpg ...\n",
      "[INFO] Processing Corn_Health (17).jpg ...\n",
      "[INFO] Processing Corn_Health (18).jpg ...\n",
      "[INFO] Processing Corn_Health (19).jpg ...\n",
      "[INFO] Processing Corn_Health (2).jpg ...\n",
      "[INFO] Processing Corn_Health (20).jpg ...\n",
      "[INFO] Processing Corn_Health (21).jpg ...\n",
      "[INFO] Processing Corn_Health (22).jpg ...\n",
      "[INFO] Processing Corn_Health (23).jpg ...\n",
      "[INFO] Processing Corn_Health (24).jpg ...\n",
      "[INFO] Processing Corn_Health (25).jpg ...\n",
      "[INFO] Processing Corn_Health (26).jpg ...\n",
      "[INFO] Processing Corn_Health (27).jpg ...\n",
      "[INFO] Processing Corn_Health (28).jpg ...\n",
      "[INFO] Processing Corn_Health (29).jpg ...\n",
      "[INFO] Processing Corn_Health (3).jpg ...\n",
      "[INFO] Processing Corn_Health (30).jpg ...\n",
      "[INFO] Processing Corn_Health (31).jpg ...\n",
      "[INFO] Processing Corn_Health (32).jpg ...\n",
      "[INFO] Processing Corn_Health (33).jpg ...\n",
      "[INFO] Processing Corn_Health (34).jpg ...\n",
      "[INFO] Processing Corn_Health (35).jpg ...\n",
      "[INFO] Processing Corn_Health (36).jpg ...\n",
      "[INFO] Processing Corn_Health (37).jpg ...\n",
      "[INFO] Processing Corn_Health (38).jpg ...\n",
      "[INFO] Processing Corn_Health (39).jpg ...\n",
      "[INFO] Processing Corn_Health (4).jpg ...\n",
      "[INFO] Processing Corn_Health (40).jpg ...\n",
      "[INFO] Processing Corn_Health (41).jpg ...\n",
      "[INFO] Processing Corn_Health (42).jpg ...\n",
      "[INFO] Processing Corn_Health (43).jpg ...\n",
      "[INFO] Processing Corn_Health (44).jpg ...\n",
      "[INFO] Processing Corn_Health (45).jpg ...\n",
      "[INFO] Processing Corn_Health (46).jpg ...\n",
      "[INFO] Processing Corn_Health (47).jpg ...\n",
      "[INFO] Processing Corn_Health (48).jpg ...\n",
      "[INFO] Processing Corn_Health (49).jpg ...\n",
      "[INFO] Processing Corn_Health (5).jpg ...\n",
      "[INFO] Processing Corn_Health (50).jpg ...\n",
      "[INFO] Processing Corn_Health (51).jpg ...\n",
      "[INFO] Processing Corn_Health (52).jpg ...\n",
      "[INFO] Processing Corn_Health (53).jpg ...\n",
      "[INFO] Processing Corn_Health (54).jpg ...\n",
      "[INFO] Processing Corn_Health (55).jpg ...\n",
      "[INFO] Processing Corn_Health (56).jpg ...\n",
      "[INFO] Processing Corn_Health (57).jpg ...\n",
      "[INFO] Processing Corn_Health (58).jpg ...\n",
      "[INFO] Processing Corn_Health (59).jpg ...\n",
      "[INFO] Processing Corn_Health (6).jpg ...\n",
      "[INFO] Processing Corn_Health (60).jpg ...\n",
      "[INFO] Processing Corn_Health (61).jpg ...\n",
      "[INFO] Processing Corn_Health (62).jpg ...\n",
      "[INFO] Processing Corn_Health (63).jpg ...\n",
      "[INFO] Processing Corn_Health (64).jpg ...\n",
      "[INFO] Processing Corn_Health (65).jpg ...\n",
      "[INFO] Processing Corn_Health (66).jpg ...\n",
      "[INFO] Processing Corn_Health (67).jpg ...\n",
      "[INFO] Processing Corn_Health (68).jpg ...\n",
      "[INFO] Processing Corn_Health (69).jpg ...\n",
      "[INFO] Processing Corn_Health (7).jpg ...\n",
      "[INFO] Processing Corn_Health (70).jpg ...\n",
      "[INFO] Processing Corn_Health (71).jpg ...\n",
      "[INFO] Processing Corn_Health (72).jpg ...\n",
      "[INFO] Processing Corn_Health (73).jpg ...\n",
      "[INFO] Processing Corn_Health (74).jpg ...\n",
      "[INFO] Processing Corn_Health (75).jpg ...\n",
      "[INFO] Processing Corn_Health (76).jpg ...\n",
      "[INFO] Processing Corn_Health (77).jpg ...\n",
      "[INFO] Processing Corn_Health (78).jpg ...\n",
      "[INFO] Processing Corn_Health (79).jpg ...\n",
      "[INFO] Processing Corn_Health (8).jpg ...\n",
      "[INFO] Processing Corn_Health (80).jpg ...\n",
      "[INFO] Processing Corn_Health (81).jpg ...\n",
      "[INFO] Processing Corn_Health (82).jpg ...\n",
      "[INFO] Processing Corn_Health (83).jpg ...\n",
      "[INFO] Processing Corn_Health (84).jpg ...\n",
      "[INFO] Processing Corn_Health (85).jpg ...\n",
      "[INFO] Processing Corn_Health (86).jpg ...\n",
      "[INFO] Processing Corn_Health (87).jpg ...\n",
      "[INFO] Processing Corn_Health (88).jpg ...\n",
      "[INFO] Processing Corn_Health (89).jpg ...\n",
      "[INFO] Processing Corn_Health (9).jpg ...\n",
      "[INFO] Processing Corn_Health (90).jpg ...\n",
      "[INFO] Processing Corn_Health (91).jpg ...\n",
      "[INFO] Processing Corn_Health (92).jpg ...\n",
      "[INFO] Processing Corn_Health (93).jpg ...\n",
      "[INFO] Processing Corn_Health (94).jpg ...\n",
      "[INFO] Processing Corn_Health (95).jpg ...\n",
      "[INFO] Processing Corn_Health (96).jpg ...\n",
      "[INFO] Image loading completed\n"
     ]
    }
   ],
   "source": [
    "image_list, label_list = [], []\n",
    "try:\n",
    "    print(\"[INFO] Loading images ...\")\n",
    "    root_dir = listdir(directory_root)\n",
    "    for directory in root_dir :\n",
    "        # remove .DS_Store from list\n",
    "        if directory == \".DS_Store\" :\n",
    "            root_dir.remove(directory)\n",
    "\n",
    "    for plant_folder in root_dir :\n",
    "        plant_disease_folder_list = listdir(f\"{directory_root}/{plant_folder}\")\n",
    "        \n",
    "        for disease_folder in plant_disease_folder_list :\n",
    "            # remove .DS_Store from list\n",
    "            if disease_folder == \".DS_Store\" :\n",
    "                plant_disease_folder_list.remove(disease_folder)\n",
    "\n",
    "        for plant_disease_folder in plant_disease_folder_list:\n",
    "            print(f\"[INFO] Processing {plant_disease_folder} ...\")\n",
    "            plant_disease_image_list = listdir(f\"{directory_root}/{plant_folder}/\")\n",
    "                \n",
    "            for single_plant_disease_image in plant_disease_image_list :\n",
    "                if single_plant_disease_image == \".DS_Store\" :\n",
    "                    plant_disease_image_list.remove(single_plant_disease_image)\n",
    "\n",
    "            for image in plant_disease_image_list[:250]:\n",
    "                image_directory = f\"{directory_root}/{plant_folder}/{image}\"\n",
    "                if image_directory.endswith(\".jpg\") == True or image_directory.endswith(\".JPG\") == True:\n",
    "                    image_list.append(convert_image_to_array(image_directory))\n",
    "                    label_list.append(plant_disease_folder)\n",
    "    print(\"[INFO] Image loading completed\")  \n",
    "except Exception as e:\n",
    "    print(f\"Error : {e}\")"
   ]
  },
  {
   "attachments": {},
   "cell_type": "markdown",
   "metadata": {
    "_uuid": "35c4b76d33e0263523e479657580104532f81d6e",
    "id": "6fTzv0y84ZRx"
   },
   "source": [
    "Get Size of Processed Image"
   ]
  },
  {
   "cell_type": "code",
   "execution_count": 5,
   "metadata": {
    "_uuid": "6ee1ad9c422f112ec2862699b5c0f68b8d658123",
    "executionInfo": {
     "elapsed": 1669,
     "status": "ok",
     "timestamp": 1604376302022,
     "user": {
      "displayName": "Vaibhav Wagaskar",
      "photoUrl": "",
      "userId": "18291676089604901220"
     },
     "user_tz": -330
    },
    "id": "O2-fRddh4ZRy"
   },
   "outputs": [],
   "source": [
    "image_size = len(image_list)"
   ]
  },
  {
   "attachments": {},
   "cell_type": "markdown",
   "metadata": {
    "_uuid": "905b41b226f3fd82a88e67821eb42a07f24b31f7",
    "id": "m1mwPUTN4ZR7"
   },
   "source": [
    "Transform Image Labels uisng [Scikit Learn](http://scikit-learn.org/)'s LabelBinarizer"
   ]
  },
  {
   "cell_type": "code",
   "execution_count": 6,
   "metadata": {
    "_uuid": "904ff893fe14f5060dd9e7be2ccf96ec793597e5",
    "executionInfo": {
     "elapsed": 2682,
     "status": "ok",
     "timestamp": 1604376309291,
     "user": {
      "displayName": "Vaibhav Wagaskar",
      "photoUrl": "",
      "userId": "18291676089604901220"
     },
     "user_tz": -330
    },
    "id": "KbEaCulu4ZR8"
   },
   "outputs": [],
   "source": [
    "label_binarizer = LabelBinarizer()\n",
    "image_labels = label_binarizer.fit_transform(label_list)\n",
    "pickle.dump(label_binarizer,open('label_transform.pkl', 'wb'))\n",
    "n_classes = len(label_binarizer.classes_)"
   ]
  },
  {
   "attachments": {},
   "cell_type": "markdown",
   "metadata": {
    "_uuid": "f860c29a1d714f06d25e6a0c5bca94739e5d24cc",
    "id": "6_mRRkrk4ZSE"
   },
   "source": [
    "Print the classes"
   ]
  },
  {
   "cell_type": "code",
   "execution_count": 7,
   "metadata": {
    "_uuid": "0f876397c40c3c8aa09772a92fd60481fc9ba268",
    "colab": {
     "base_uri": "https://localhost:8080/"
    },
    "executionInfo": {
     "elapsed": 1777,
     "status": "ok",
     "timestamp": 1604376315639,
     "user": {
      "displayName": "Vaibhav Wagaskar",
      "photoUrl": "",
      "userId": "18291676089604901220"
     },
     "user_tz": -330
    },
    "id": "arZ9HVde4ZSF",
    "outputId": "b9ac1219-d343-472e-b361-ed3de5ce8056"
   },
   "outputs": [
    {
     "name": "stdout",
     "output_type": "stream",
     "text": [
      "['Corn_Blight (1).jpeg' 'Corn_Blight (1).jpg' 'Corn_Blight (10).jpg'\n",
      " 'Corn_Blight (100).jpg' 'Corn_Blight (101).jpg' 'Corn_Blight (102).jpg'\n",
      " 'Corn_Blight (103).jpg' 'Corn_Blight (104).jpg' 'Corn_Blight (105).jpg'\n",
      " 'Corn_Blight (106).jpg' 'Corn_Blight (107).jpg' 'Corn_Blight (108).jpg'\n",
      " 'Corn_Blight (109).jpg' 'Corn_Blight (11).jpg' 'Corn_Blight (110).jpg'\n",
      " 'Corn_Blight (111).JPG' 'Corn_Blight (112).JPG' 'Corn_Blight (113).JPG'\n",
      " 'Corn_Blight (114).JPG' 'Corn_Blight (115).JPG' 'Corn_Blight (116).JPG'\n",
      " 'Corn_Blight (117).JPG' 'Corn_Blight (118).JPG' 'Corn_Blight (119).JPG'\n",
      " 'Corn_Blight (12).jpg' 'Corn_Blight (13).jpg' 'Corn_Blight (14).jpg'\n",
      " 'Corn_Blight (15).jpg' 'Corn_Blight (16).jpg' 'Corn_Blight (17).jpg'\n",
      " 'Corn_Blight (18).jpg' 'Corn_Blight (19).jpg' 'Corn_Blight (2).jpg'\n",
      " 'Corn_Blight (20).jpg' 'Corn_Blight (21).jpg' 'Corn_Blight (22).jpg'\n",
      " 'Corn_Blight (23).jpg' 'Corn_Blight (24).jpg' 'Corn_Blight (25).jpg'\n",
      " 'Corn_Blight (26).jpg' 'Corn_Blight (27).jpg' 'Corn_Blight (28).jpg'\n",
      " 'Corn_Blight (29).jpg' 'Corn_Blight (3).jpg' 'Corn_Blight (30).jpg'\n",
      " 'Corn_Blight (31).jpg' 'Corn_Blight (32).jpg' 'Corn_Blight (33).jpg'\n",
      " 'Corn_Blight (34).jpg' 'Corn_Blight (35).jpg' 'Corn_Blight (36).jpg'\n",
      " 'Corn_Blight (37).jpg' 'Corn_Blight (38).jpg' 'Corn_Blight (39).jpg'\n",
      " 'Corn_Blight (4).jpg' 'Corn_Blight (40).jpg' 'Corn_Blight (41).jpg'\n",
      " 'Corn_Blight (42).jpg' 'Corn_Blight (43).jpg' 'Corn_Blight (44).jpg'\n",
      " 'Corn_Blight (45).jpg' 'Corn_Blight (46).jpg' 'Corn_Blight (47).jpg'\n",
      " 'Corn_Blight (48).jpg' 'Corn_Blight (49).jpg' 'Corn_Blight (5).jpg'\n",
      " 'Corn_Blight (50).jpg' 'Corn_Blight (51).jpg' 'Corn_Blight (52).jpg'\n",
      " 'Corn_Blight (53).jpg' 'Corn_Blight (54).jpg' 'Corn_Blight (55).jpg'\n",
      " 'Corn_Blight (56).jpg' 'Corn_Blight (57).jpg' 'Corn_Blight (58).jpg'\n",
      " 'Corn_Blight (59).jpg' 'Corn_Blight (6).jpg' 'Corn_Blight (60).jpg'\n",
      " 'Corn_Blight (61).jpg' 'Corn_Blight (62).jpg' 'Corn_Blight (63).jpg'\n",
      " 'Corn_Blight (64).jpg' 'Corn_Blight (65).jpg' 'Corn_Blight (66).jpg'\n",
      " 'Corn_Blight (67).jpg' 'Corn_Blight (68).jpg' 'Corn_Blight (69).jpg'\n",
      " 'Corn_Blight (7).jpg' 'Corn_Blight (70).jpg' 'Corn_Blight (71).jpg'\n",
      " 'Corn_Blight (72).jpg' 'Corn_Blight (73).jpg' 'Corn_Blight (74).jpg'\n",
      " 'Corn_Blight (75).jpg' 'Corn_Blight (76).jpg' 'Corn_Blight (77).jpg'\n",
      " 'Corn_Blight (78).jpg' 'Corn_Blight (79).jpg' 'Corn_Blight (8).jpg'\n",
      " 'Corn_Blight (80).jpg' 'Corn_Blight (81).jpg' 'Corn_Blight (82).jpg'\n",
      " 'Corn_Blight (83).jpg' 'Corn_Blight (84).jpg' 'Corn_Blight (85).jpg'\n",
      " 'Corn_Blight (86).jpg' 'Corn_Blight (87).jpg' 'Corn_Blight (88).jpg'\n",
      " 'Corn_Blight (89).jpg' 'Corn_Blight (9).jpg' 'Corn_Blight (90).jpg'\n",
      " 'Corn_Blight (91).jpg' 'Corn_Blight (92).jpg' 'Corn_Blight (93).jpg'\n",
      " 'Corn_Blight (94).jpg' 'Corn_Blight (95).jpg' 'Corn_Blight (96).jpg'\n",
      " 'Corn_Blight (97).jpg' 'Corn_Blight (98).jpg' 'Corn_Blight (99).jpg'\n",
      " 'Corn_Common_Rust (1).jpg' 'Corn_Common_Rust (10).jpg'\n",
      " 'Corn_Common_Rust (100).JPG' 'Corn_Common_Rust (101).JPG'\n",
      " 'Corn_Common_Rust (102).JPG' 'Corn_Common_Rust (103).JPG'\n",
      " 'Corn_Common_Rust (104).JPG' 'Corn_Common_Rust (105).JPG'\n",
      " 'Corn_Common_Rust (106).JPG' 'Corn_Common_Rust (107).JPG'\n",
      " 'Corn_Common_Rust (108).JPG' 'Corn_Common_Rust (11).jpg'\n",
      " 'Corn_Common_Rust (12).jpg' 'Corn_Common_Rust (13).jpg'\n",
      " 'Corn_Common_Rust (14).jpg' 'Corn_Common_Rust (15).jpg'\n",
      " 'Corn_Common_Rust (16).jpg' 'Corn_Common_Rust (17).jpg'\n",
      " 'Corn_Common_Rust (18).jpg' 'Corn_Common_Rust (19).jpg'\n",
      " 'Corn_Common_Rust (2).jpg' 'Corn_Common_Rust (20).jpg'\n",
      " 'Corn_Common_Rust (21).jpg' 'Corn_Common_Rust (22).jpg'\n",
      " 'Corn_Common_Rust (23).jpg' 'Corn_Common_Rust (24).jpg'\n",
      " 'Corn_Common_Rust (25).jpg' 'Corn_Common_Rust (26).jpg'\n",
      " 'Corn_Common_Rust (27).jpg' 'Corn_Common_Rust (28).jpg'\n",
      " 'Corn_Common_Rust (29).jpg' 'Corn_Common_Rust (3).jpg'\n",
      " 'Corn_Common_Rust (30).jpg' 'Corn_Common_Rust (31).jpg'\n",
      " 'Corn_Common_Rust (32).jpg' 'Corn_Common_Rust (33).jpg'\n",
      " 'Corn_Common_Rust (34).jpg' 'Corn_Common_Rust (35).jpg'\n",
      " 'Corn_Common_Rust (36).jpg' 'Corn_Common_Rust (37).jpg'\n",
      " 'Corn_Common_Rust (38).jpg' 'Corn_Common_Rust (39).jpg'\n",
      " 'Corn_Common_Rust (4).jpg' 'Corn_Common_Rust (40).jpg'\n",
      " 'Corn_Common_Rust (41).jpg' 'Corn_Common_Rust (42).jpg'\n",
      " 'Corn_Common_Rust (43).jpg' 'Corn_Common_Rust (44).jpg'\n",
      " 'Corn_Common_Rust (45).jpg' 'Corn_Common_Rust (46).jpg'\n",
      " 'Corn_Common_Rust (47).jpg' 'Corn_Common_Rust (48).jpg'\n",
      " 'Corn_Common_Rust (49).jpg' 'Corn_Common_Rust (5).jpg'\n",
      " 'Corn_Common_Rust (50).jpg' 'Corn_Common_Rust (51).jpg'\n",
      " 'Corn_Common_Rust (52).jpg' 'Corn_Common_Rust (53).jpg'\n",
      " 'Corn_Common_Rust (54).jpg' 'Corn_Common_Rust (55).jpg'\n",
      " 'Corn_Common_Rust (56).jpg' 'Corn_Common_Rust (57).jpg'\n",
      " 'Corn_Common_Rust (58).jpg' 'Corn_Common_Rust (59).jpg'\n",
      " 'Corn_Common_Rust (6).jpg' 'Corn_Common_Rust (60).jpg'\n",
      " 'Corn_Common_Rust (61).jpg' 'Corn_Common_Rust (62).jpg'\n",
      " 'Corn_Common_Rust (63).jpg' 'Corn_Common_Rust (64).jpg'\n",
      " 'Corn_Common_Rust (65).jpg' 'Corn_Common_Rust (66).jpg'\n",
      " 'Corn_Common_Rust (67).jpg' 'Corn_Common_Rust (68).jpg'\n",
      " 'Corn_Common_Rust (69).jpg' 'Corn_Common_Rust (7).jpg'\n",
      " 'Corn_Common_Rust (70).jpg' 'Corn_Common_Rust (71).jpg'\n",
      " 'Corn_Common_Rust (72).JPG' 'Corn_Common_Rust (73).JPG'\n",
      " 'Corn_Common_Rust (74).JPG' 'Corn_Common_Rust (75).JPG'\n",
      " 'Corn_Common_Rust (76).JPG' 'Corn_Common_Rust (77).JPG'\n",
      " 'Corn_Common_Rust (78).JPG' 'Corn_Common_Rust (79).JPG'\n",
      " 'Corn_Common_Rust (8).jpg' 'Corn_Common_Rust (80).JPG'\n",
      " 'Corn_Common_Rust (81).JPG' 'Corn_Common_Rust (82).JPG'\n",
      " 'Corn_Common_Rust (83).JPG' 'Corn_Common_Rust (84).JPG'\n",
      " 'Corn_Common_Rust (85).JPG' 'Corn_Common_Rust (86).JPG'\n",
      " 'Corn_Common_Rust (87).JPG' 'Corn_Common_Rust (88).JPG'\n",
      " 'Corn_Common_Rust (89).JPG' 'Corn_Common_Rust (9).jpg'\n",
      " 'Corn_Common_Rust (90).JPG' 'Corn_Common_Rust (91).JPG'\n",
      " 'Corn_Common_Rust (92).JPG' 'Corn_Common_Rust (93).JPG'\n",
      " 'Corn_Common_Rust (94).JPG' 'Corn_Common_Rust (95).JPG'\n",
      " 'Corn_Common_Rust (96).JPG' 'Corn_Common_Rust (97).JPG'\n",
      " 'Corn_Common_Rust (98).JPG' 'Corn_Common_Rust (99).JPG'\n",
      " 'Corn_Gray_Spot (1).jpg' 'Corn_Gray_Spot (10).jpg'\n",
      " 'Corn_Gray_Spot (11).jpg' 'Corn_Gray_Spot (12).jpg'\n",
      " 'Corn_Gray_Spot (13).jpg' 'Corn_Gray_Spot (14).jpg'\n",
      " 'Corn_Gray_Spot (15).jpg' 'Corn_Gray_Spot (16).jpg'\n",
      " 'Corn_Gray_Spot (17).jpg' 'Corn_Gray_Spot (18).jpg'\n",
      " 'Corn_Gray_Spot (19).jpg' 'Corn_Gray_Spot (2).jpg'\n",
      " 'Corn_Gray_Spot (20).jpg' 'Corn_Gray_Spot (21).jpg'\n",
      " 'Corn_Gray_Spot (22).jpg' 'Corn_Gray_Spot (23).jpg'\n",
      " 'Corn_Gray_Spot (24).jpg' 'Corn_Gray_Spot (25).jpg'\n",
      " 'Corn_Gray_Spot (26).jpg' 'Corn_Gray_Spot (27).jpg'\n",
      " 'Corn_Gray_Spot (28).jpg' 'Corn_Gray_Spot (29).jpg'\n",
      " 'Corn_Gray_Spot (3).jpg' 'Corn_Gray_Spot (30).jpg'\n",
      " 'Corn_Gray_Spot (31).jpg' 'Corn_Gray_Spot (32).jpg'\n",
      " 'Corn_Gray_Spot (33).jpg' 'Corn_Gray_Spot (34).jpg'\n",
      " 'Corn_Gray_Spot (35).jpg' 'Corn_Gray_Spot (36).jpg'\n",
      " 'Corn_Gray_Spot (37).jpg' 'Corn_Gray_Spot (38).jpg'\n",
      " 'Corn_Gray_Spot (39).jpg' 'Corn_Gray_Spot (4).jpg'\n",
      " 'Corn_Gray_Spot (40).jpg' 'Corn_Gray_Spot (41).jpg'\n",
      " 'Corn_Gray_Spot (42).jpg' 'Corn_Gray_Spot (43).jpg'\n",
      " 'Corn_Gray_Spot (44).jpg' 'Corn_Gray_Spot (45).jpg'\n",
      " 'Corn_Gray_Spot (46).jpg' 'Corn_Gray_Spot (47).jpg'\n",
      " 'Corn_Gray_Spot (48).jpg' 'Corn_Gray_Spot (49).JPG'\n",
      " 'Corn_Gray_Spot (5).jpg' 'Corn_Gray_Spot (50).JPG'\n",
      " 'Corn_Gray_Spot (51).JPG' 'Corn_Gray_Spot (52).jpg'\n",
      " 'Corn_Gray_Spot (53).JPG' 'Corn_Gray_Spot (54).JPG'\n",
      " 'Corn_Gray_Spot (55).jpg' 'Corn_Gray_Spot (56).JPG'\n",
      " 'Corn_Gray_Spot (57).JPG' 'Corn_Gray_Spot (58).JPG'\n",
      " 'Corn_Gray_Spot (59).JPG' 'Corn_Gray_Spot (6).jpg'\n",
      " 'Corn_Gray_Spot (60).JPG' 'Corn_Gray_Spot (61).JPG'\n",
      " 'Corn_Gray_Spot (62).JPG' 'Corn_Gray_Spot (63).JPG'\n",
      " 'Corn_Gray_Spot (64).JPG' 'Corn_Gray_Spot (65).JPG'\n",
      " 'Corn_Gray_Spot (66).JPG' 'Corn_Gray_Spot (67).JPG'\n",
      " 'Corn_Gray_Spot (68).jpg' 'Corn_Gray_Spot (69).JPG'\n",
      " 'Corn_Gray_Spot (7).jpg' 'Corn_Gray_Spot (70).JPG'\n",
      " 'Corn_Gray_Spot (71).JPG' 'Corn_Gray_Spot (72).JPG'\n",
      " 'Corn_Gray_Spot (73).JPG' 'Corn_Gray_Spot (74).JPG'\n",
      " 'Corn_Gray_Spot (75).jpg' 'Corn_Gray_Spot (76).JPG'\n",
      " 'Corn_Gray_Spot (77).JPG' 'Corn_Gray_Spot (78).JPG'\n",
      " 'Corn_Gray_Spot (79).jpg' 'Corn_Gray_Spot (8).jpg'\n",
      " 'Corn_Gray_Spot (80).JPG' 'Corn_Gray_Spot (81).JPG'\n",
      " 'Corn_Gray_Spot (82).JPG' 'Corn_Gray_Spot (83).JPG'\n",
      " 'Corn_Gray_Spot (84).JPG' 'Corn_Gray_Spot (85).JPG'\n",
      " 'Corn_Gray_Spot (86).JPG' 'Corn_Gray_Spot (87).JPG'\n",
      " 'Corn_Gray_Spot (88).JPG' 'Corn_Gray_Spot (89).JPG'\n",
      " 'Corn_Gray_Spot (9).jpg' 'Corn_Gray_Spot (90).JPG'\n",
      " 'Corn_Gray_Spot (91).JPG' 'Corn_Gray_Spot (92).JPG'\n",
      " 'Corn_Gray_Spot (93).JPG' 'Corn_Gray_Spot (94).JPG'\n",
      " 'Corn_Gray_Spot (95).JPG' 'Corn_Gray_Spot (96).JPG' 'Corn_Health (1).jpg'\n",
      " 'Corn_Health (10).jpg' 'Corn_Health (11).jpg' 'Corn_Health (12).jpg'\n",
      " 'Corn_Health (13).jpg' 'Corn_Health (14).jpg' 'Corn_Health (15).jpg'\n",
      " 'Corn_Health (16).jpg' 'Corn_Health (17).jpg' 'Corn_Health (18).jpg'\n",
      " 'Corn_Health (19).jpg' 'Corn_Health (2).jpg' 'Corn_Health (20).jpg'\n",
      " 'Corn_Health (21).jpg' 'Corn_Health (22).jpg' 'Corn_Health (23).jpg'\n",
      " 'Corn_Health (24).jpg' 'Corn_Health (25).jpg' 'Corn_Health (26).jpg'\n",
      " 'Corn_Health (27).jpg' 'Corn_Health (28).jpg' 'Corn_Health (29).jpg'\n",
      " 'Corn_Health (3).jpg' 'Corn_Health (30).jpg' 'Corn_Health (31).jpg'\n",
      " 'Corn_Health (32).jpg' 'Corn_Health (33).jpg' 'Corn_Health (34).jpg'\n",
      " 'Corn_Health (35).jpg' 'Corn_Health (36).jpg' 'Corn_Health (37).jpg'\n",
      " 'Corn_Health (38).jpg' 'Corn_Health (39).jpg' 'Corn_Health (4).jpg'\n",
      " 'Corn_Health (40).jpg' 'Corn_Health (41).jpg' 'Corn_Health (42).jpg'\n",
      " 'Corn_Health (43).jpg' 'Corn_Health (44).jpg' 'Corn_Health (45).jpg'\n",
      " 'Corn_Health (46).jpg' 'Corn_Health (47).jpg' 'Corn_Health (48).jpg'\n",
      " 'Corn_Health (49).jpg' 'Corn_Health (5).jpg' 'Corn_Health (50).jpg'\n",
      " 'Corn_Health (51).jpg' 'Corn_Health (52).jpg' 'Corn_Health (53).jpg'\n",
      " 'Corn_Health (54).jpg' 'Corn_Health (55).jpg' 'Corn_Health (56).jpg'\n",
      " 'Corn_Health (57).jpg' 'Corn_Health (58).jpg' 'Corn_Health (59).jpg'\n",
      " 'Corn_Health (6).jpg' 'Corn_Health (60).jpg' 'Corn_Health (61).jpg'\n",
      " 'Corn_Health (62).jpg' 'Corn_Health (63).jpg' 'Corn_Health (64).jpg'\n",
      " 'Corn_Health (65).jpg' 'Corn_Health (66).jpg' 'Corn_Health (67).jpg'\n",
      " 'Corn_Health (68).jpg' 'Corn_Health (69).jpg' 'Corn_Health (7).jpg'\n",
      " 'Corn_Health (70).jpg' 'Corn_Health (71).jpg' 'Corn_Health (72).jpg'\n",
      " 'Corn_Health (73).jpg' 'Corn_Health (74).jpg' 'Corn_Health (75).jpg'\n",
      " 'Corn_Health (76).jpg' 'Corn_Health (77).jpg' 'Corn_Health (78).jpg'\n",
      " 'Corn_Health (79).jpg' 'Corn_Health (8).jpg' 'Corn_Health (80).jpg'\n",
      " 'Corn_Health (81).jpg' 'Corn_Health (82).jpg' 'Corn_Health (83).jpg'\n",
      " 'Corn_Health (84).jpg' 'Corn_Health (85).jpg' 'Corn_Health (86).jpg'\n",
      " 'Corn_Health (87).jpg' 'Corn_Health (88).jpg' 'Corn_Health (89).jpg'\n",
      " 'Corn_Health (9).jpg' 'Corn_Health (90).jpg' 'Corn_Health (91).jpg'\n",
      " 'Corn_Health (92).jpg' 'Corn_Health (93).jpg' 'Corn_Health (94).jpg'\n",
      " 'Corn_Health (95).jpg' 'Corn_Health (96).jpg']\n"
     ]
    }
   ],
   "source": [
    "print(label_binarizer.classes_)"
   ]
  },
  {
   "cell_type": "code",
   "execution_count": 8,
   "metadata": {
    "_uuid": "6cd9c977b3d164a5570a0c24fdd8624adb9d56b8",
    "executionInfo": {
     "elapsed": 3852,
     "status": "ok",
     "timestamp": 1604376322342,
     "user": {
      "displayName": "Vaibhav Wagaskar",
      "photoUrl": "",
      "userId": "18291676089604901220"
     },
     "user_tz": -330
    },
    "id": "LmPwGkfW4ZSK"
   },
   "outputs": [],
   "source": [
    "np_image_list = np.array(image_list, dtype=np.float16) / 225.0"
   ]
  },
  {
   "cell_type": "code",
   "execution_count": 9,
   "metadata": {
    "_uuid": "9f4829560fdfa218cee18c1cfb2eb9452ef180e5",
    "colab": {
     "base_uri": "https://localhost:8080/"
    },
    "executionInfo": {
     "elapsed": 1505,
     "status": "ok",
     "timestamp": 1604376325268,
     "user": {
      "displayName": "Vaibhav Wagaskar",
      "photoUrl": "",
      "userId": "18291676089604901220"
     },
     "user_tz": -330
    },
    "id": "mVN2zShn4ZSR",
    "outputId": "4c95437a-a775-46ec-f7c7-90c99ae3ccf7"
   },
   "outputs": [
    {
     "name": "stdout",
     "output_type": "stream",
     "text": [
      "[INFO] Spliting data to train, test\n"
     ]
    }
   ],
   "source": [
    "print(\"[INFO] Spliting data to train, test\")\n",
    "x_train, x_test, y_train, y_test = train_test_split(np_image_list, image_labels, test_size=0.2, random_state = 42) "
   ]
  },
  {
   "cell_type": "code",
   "execution_count": 10,
   "metadata": {
    "_uuid": "eec8afa64e676d52c814fc8e096955a60f13b6c5",
    "executionInfo": {
     "elapsed": 1502,
     "status": "ok",
     "timestamp": 1604376329639,
     "user": {
      "displayName": "Vaibhav Wagaskar",
      "photoUrl": "",
      "userId": "18291676089604901220"
     },
     "user_tz": -330
    },
    "id": "_El3JmDX4ZSY"
   },
   "outputs": [],
   "source": [
    "aug = ImageDataGenerator(\n",
    "    rotation_range=25, width_shift_range=0.1,\n",
    "    height_shift_range=0.1, shear_range=0.2, \n",
    "    zoom_range=0.2,horizontal_flip=True, \n",
    "    fill_mode=\"nearest\")"
   ]
  },
  {
   "cell_type": "code",
   "execution_count": 11,
   "metadata": {
    "_cell_guid": "79c7e3d0-c299-4dcb-8224-4455121ee9b0",
    "_uuid": "d629ff2d2480ee46fbb7e2d37f6b5fab8052498a",
    "executionInfo": {
     "elapsed": 7640,
     "status": "ok",
     "timestamp": 1604376339437,
     "user": {
      "displayName": "Vaibhav Wagaskar",
      "photoUrl": "",
      "userId": "18291676089604901220"
     },
     "user_tz": -330
    },
    "id": "7R8cQhAM4ZSf"
   },
   "outputs": [],
   "source": [
    "model = Sequential()\n",
    "inputShape = (height, width, depth)\n",
    "chanDim = -1\n",
    "if K.image_data_format() == \"channels_first\":\n",
    "    inputShape = (depth, height, width)\n",
    "    chanDim = 1\n",
    "model.add(Conv2D(32, (3, 3), padding=\"same\",input_shape=inputShape))\n",
    "model.add(Activation(\"relu\"))\n",
    "model.add(BatchNormalization(axis=chanDim))\n",
    "model.add(MaxPooling2D(pool_size=(3, 3)))\n",
    "model.add(Dropout(0.25))\n",
    "model.add(Conv2D(64, (3, 3), padding=\"same\"))\n",
    "model.add(Activation(\"relu\"))\n",
    "model.add(BatchNormalization(axis=chanDim))\n",
    "model.add(Conv2D(64, (3, 3), padding=\"same\"))\n",
    "model.add(Activation(\"relu\"))\n",
    "model.add(BatchNormalization(axis=chanDim))\n",
    "model.add(Conv2D(64, (3, 3), padding=\"same\"))\n",
    "model.add(Activation(\"relu\"))\n",
    "model.add(BatchNormalization(axis=chanDim))\n",
    "model.add(MaxPooling2D(pool_size=(2, 2)))\n",
    "model.add(Dropout(0.25))\n",
    "model.add(Conv2D(128, (3, 3), padding=\"same\"))\n",
    "model.add(Activation(\"relu\"))\n",
    "model.add(BatchNormalization(axis=chanDim))\n",
    "model.add(Conv2D(128, (3, 3), padding=\"same\"))\n",
    "model.add(Activation(\"relu\"))\n",
    "model.add(BatchNormalization(axis=chanDim))\n",
    "model.add(MaxPooling2D(pool_size=(2, 2)))\n",
    "model.add(Dropout(0.25))\n",
    "model.add(Flatten())\n",
    "model.add(Dense(1024))\n",
    "model.add(Activation(\"relu\"))\n",
    "model.add(BatchNormalization())\n",
    "model.add(Dropout(0.5))\n",
    "model.add(Dense(n_classes))\n",
    "model.add(Activation(\"softmax\"))"
   ]
  },
  {
   "attachments": {},
   "cell_type": "markdown",
   "metadata": {
    "_uuid": "53b13c03e4cea6dc2453a84e254b806ebeed2d99",
    "id": "9cw7MUhD4ZSl"
   },
   "source": [
    "Model Summary"
   ]
  },
  {
   "cell_type": "code",
   "execution_count": 12,
   "metadata": {
    "_uuid": "1e1523a834fbf872940171fbdefb3dcce2b5f31b",
    "colab": {
     "base_uri": "https://localhost:8080/"
    },
    "executionInfo": {
     "elapsed": 1667,
     "status": "ok",
     "timestamp": 1604376348007,
     "user": {
      "displayName": "Vaibhav Wagaskar",
      "photoUrl": "",
      "userId": "18291676089604901220"
     },
     "user_tz": -330
    },
    "id": "8upKzVwR4ZSn",
    "outputId": "0678de1f-fe4a-47e3-c079-8db20f519e0a"
   },
   "outputs": [
    {
     "name": "stdout",
     "output_type": "stream",
     "text": [
      "Model: \"sequential\"\n",
      "_________________________________________________________________\n",
      " Layer (type)                Output Shape              Param #   \n",
      "=================================================================\n",
      " conv2d (Conv2D)             (None, 100, 100, 32)      896       \n",
      "                                                                 \n",
      " activation (Activation)     (None, 100, 100, 32)      0         \n",
      "                                                                 \n",
      " batch_normalization (BatchN  (None, 100, 100, 32)     128       \n",
      " ormalization)                                                   \n",
      "                                                                 \n",
      " max_pooling2d (MaxPooling2D  (None, 33, 33, 32)       0         \n",
      " )                                                               \n",
      "                                                                 \n",
      " dropout (Dropout)           (None, 33, 33, 32)        0         \n",
      "                                                                 \n",
      " conv2d_1 (Conv2D)           (None, 33, 33, 64)        18496     \n",
      "                                                                 \n",
      " activation_1 (Activation)   (None, 33, 33, 64)        0         \n",
      "                                                                 \n",
      " batch_normalization_1 (Batc  (None, 33, 33, 64)       256       \n",
      " hNormalization)                                                 \n",
      "                                                                 \n",
      " conv2d_2 (Conv2D)           (None, 33, 33, 64)        36928     \n",
      "                                                                 \n",
      " activation_2 (Activation)   (None, 33, 33, 64)        0         \n",
      "                                                                 \n",
      " batch_normalization_2 (Batc  (None, 33, 33, 64)       256       \n",
      " hNormalization)                                                 \n",
      "                                                                 \n",
      " conv2d_3 (Conv2D)           (None, 33, 33, 64)        36928     \n",
      "                                                                 \n",
      " activation_3 (Activation)   (None, 33, 33, 64)        0         \n",
      "                                                                 \n",
      " batch_normalization_3 (Batc  (None, 33, 33, 64)       256       \n",
      " hNormalization)                                                 \n",
      "                                                                 \n",
      " max_pooling2d_1 (MaxPooling  (None, 16, 16, 64)       0         \n",
      " 2D)                                                             \n",
      "                                                                 \n",
      " dropout_1 (Dropout)         (None, 16, 16, 64)        0         \n",
      "                                                                 \n",
      " conv2d_4 (Conv2D)           (None, 16, 16, 128)       73856     \n",
      "                                                                 \n",
      " activation_4 (Activation)   (None, 16, 16, 128)       0         \n",
      "                                                                 \n",
      " batch_normalization_4 (Batc  (None, 16, 16, 128)      512       \n",
      " hNormalization)                                                 \n",
      "                                                                 \n",
      " conv2d_5 (Conv2D)           (None, 16, 16, 128)       147584    \n",
      "                                                                 \n",
      " activation_5 (Activation)   (None, 16, 16, 128)       0         \n",
      "                                                                 \n",
      " batch_normalization_5 (Batc  (None, 16, 16, 128)      512       \n",
      " hNormalization)                                                 \n",
      "                                                                 \n",
      " max_pooling2d_2 (MaxPooling  (None, 8, 8, 128)        0         \n",
      " 2D)                                                             \n",
      "                                                                 \n",
      " dropout_2 (Dropout)         (None, 8, 8, 128)         0         \n",
      "                                                                 \n",
      " flatten (Flatten)           (None, 8192)              0         \n",
      "                                                                 \n",
      " dense (Dense)               (None, 1024)              8389632   \n",
      "                                                                 \n",
      " activation_6 (Activation)   (None, 1024)              0         \n",
      "                                                                 \n",
      " batch_normalization_6 (Batc  (None, 1024)             4096      \n",
      " hNormalization)                                                 \n",
      "                                                                 \n",
      " dropout_3 (Dropout)         (None, 1024)              0         \n",
      "                                                                 \n",
      " dense_1 (Dense)             (None, 420)               430500    \n",
      "                                                                 \n",
      " activation_7 (Activation)   (None, 420)               0         \n",
      "                                                                 \n",
      "=================================================================\n",
      "Total params: 9,140,836\n",
      "Trainable params: 9,137,828\n",
      "Non-trainable params: 3,008\n",
      "_________________________________________________________________\n"
     ]
    }
   ],
   "source": [
    "model.summary()"
   ]
  },
  {
   "cell_type": "code",
   "execution_count": 13,
   "metadata": {
    "_uuid": "b21dffee32c325136b4ea23ac511049723f34a24",
    "colab": {
     "base_uri": "https://localhost:8080/"
    },
    "executionInfo": {
     "elapsed": 1656,
     "status": "ok",
     "timestamp": 1604376358564,
     "user": {
      "displayName": "Vaibhav Wagaskar",
      "photoUrl": "",
      "userId": "18291676089604901220"
     },
     "user_tz": -330
    },
    "id": "OOVp2r0i4ZSt",
    "outputId": "5ab06f7b-15a7-4fcd-854d-31c99c79e7b5"
   },
   "outputs": [
    {
     "name": "stdout",
     "output_type": "stream",
     "text": [
      "[INFO] training network...\n"
     ]
    },
    {
     "name": "stderr",
     "output_type": "stream",
     "text": [
      "C:\\Users\\AAYUSH\\AppData\\Local\\Packages\\PythonSoftwareFoundation.Python.3.9_qbz5n2kfra8p0\\LocalCache\\local-packages\\Python39\\site-packages\\keras\\optimizers\\legacy\\adam.py:117: UserWarning: The `lr` argument is deprecated, use `learning_rate` instead.\n",
      "  super().__init__(name, **kwargs)\n"
     ]
    }
   ],
   "source": [
    "#Compiling Model\n",
    "opt = Adam(lr=INIT_LR, decay=INIT_LR / EPOCHS)\n",
    "# distribution\n",
    "model.compile(loss=\"binary_crossentropy\", optimizer=opt,metrics=[\"accuracy\"])\n",
    "# train the network\n",
    "print(\"[INFO] training network...\")"
   ]
  },
  {
   "cell_type": "code",
   "execution_count": 14,
   "metadata": {
    "_uuid": "1a13efc5ded339fc3c0d9e61041e8ca555362db0",
    "colab": {
     "base_uri": "https://localhost:8080/"
    },
    "executionInfo": {
     "elapsed": 237419,
     "status": "ok",
     "timestamp": 1604376929631,
     "user": {
      "displayName": "Vaibhav Wagaskar",
      "photoUrl": "",
      "userId": "18291676089604901220"
     },
     "user_tz": -330
    },
    "id": "dMxT_lf14ZSz",
    "outputId": "a52bba5d-160d-4d9b-f1cf-d3d30cbaad31"
   },
   "outputs": [
    {
     "name": "stderr",
     "output_type": "stream",
     "text": [
      "C:\\Users\\AAYUSH\\AppData\\Local\\Temp\\ipykernel_2720\\2474006815.py:2: UserWarning: `Model.fit_generator` is deprecated and will be removed in a future version. Please use `Model.fit`, which supports generators.\n",
      "  history = model.fit_generator(\n"
     ]
    },
    {
     "name": "stdout",
     "output_type": "stream",
     "text": [
      "Epoch 1/35\n",
      "1109/1109 [==============================] - 762s 683ms/step - loss: 0.0687 - accuracy: 0.0039 - val_loss: 0.0194 - val_accuracy: 0.0042\n",
      "Epoch 2/35\n",
      " 336/1109 [========>.....................] - ETA: 8:13 - loss: 0.0193 - accuracy: 0.0055"
     ]
    },
    {
     "ename": "KeyboardInterrupt",
     "evalue": "",
     "output_type": "error",
     "traceback": [
      "\u001b[1;31m---------------------------------------------------------------------------\u001b[0m",
      "\u001b[1;31mKeyboardInterrupt\u001b[0m                         Traceback (most recent call last)",
      "\u001b[1;32mc:\\Users\\AAYUSH\\OneDrive\\Desktop\\New folder\\Plants-Disease-Detection-using-Tensorflow-and-OpenCV-main\\Plants-Disease-Detection-using-Tensorflow-and-OpenCV-main\\plant-disease-detection-Training.ipynb Cell 20\u001b[0m in \u001b[0;36m<cell line: 2>\u001b[1;34m()\u001b[0m\n\u001b[0;32m      <a href='vscode-notebook-cell:/c%3A/Users/AAYUSH/OneDrive/Desktop/New%20folder/Plants-Disease-Detection-using-Tensorflow-and-OpenCV-main/Plants-Disease-Detection-using-Tensorflow-and-OpenCV-main/plant-disease-detection-Training.ipynb#X25sZmlsZQ%3D%3D?line=0'>1</a>\u001b[0m \u001b[39m#Fitting Model\u001b[39;00m\n\u001b[1;32m----> <a href='vscode-notebook-cell:/c%3A/Users/AAYUSH/OneDrive/Desktop/New%20folder/Plants-Disease-Detection-using-Tensorflow-and-OpenCV-main/Plants-Disease-Detection-using-Tensorflow-and-OpenCV-main/plant-disease-detection-Training.ipynb#X25sZmlsZQ%3D%3D?line=1'>2</a>\u001b[0m history \u001b[39m=\u001b[39m model\u001b[39m.\u001b[39;49mfit_generator(\n\u001b[0;32m      <a href='vscode-notebook-cell:/c%3A/Users/AAYUSH/OneDrive/Desktop/New%20folder/Plants-Disease-Detection-using-Tensorflow-and-OpenCV-main/Plants-Disease-Detection-using-Tensorflow-and-OpenCV-main/plant-disease-detection-Training.ipynb#X25sZmlsZQ%3D%3D?line=2'>3</a>\u001b[0m     aug\u001b[39m.\u001b[39;49mflow(x_train, y_train, batch_size\u001b[39m=\u001b[39;49mBS),\n\u001b[0;32m      <a href='vscode-notebook-cell:/c%3A/Users/AAYUSH/OneDrive/Desktop/New%20folder/Plants-Disease-Detection-using-Tensorflow-and-OpenCV-main/Plants-Disease-Detection-using-Tensorflow-and-OpenCV-main/plant-disease-detection-Training.ipynb#X25sZmlsZQ%3D%3D?line=3'>4</a>\u001b[0m     validation_data\u001b[39m=\u001b[39;49m(x_test, y_test),\n\u001b[0;32m      <a href='vscode-notebook-cell:/c%3A/Users/AAYUSH/OneDrive/Desktop/New%20folder/Plants-Disease-Detection-using-Tensorflow-and-OpenCV-main/Plants-Disease-Detection-using-Tensorflow-and-OpenCV-main/plant-disease-detection-Training.ipynb#X25sZmlsZQ%3D%3D?line=4'>5</a>\u001b[0m     steps_per_epoch\u001b[39m=\u001b[39;49m\u001b[39mlen\u001b[39;49m(x_train) \u001b[39m/\u001b[39;49m\u001b[39m/\u001b[39;49m BS,\n\u001b[0;32m      <a href='vscode-notebook-cell:/c%3A/Users/AAYUSH/OneDrive/Desktop/New%20folder/Plants-Disease-Detection-using-Tensorflow-and-OpenCV-main/Plants-Disease-Detection-using-Tensorflow-and-OpenCV-main/plant-disease-detection-Training.ipynb#X25sZmlsZQ%3D%3D?line=5'>6</a>\u001b[0m     epochs\u001b[39m=\u001b[39;49mEPOCHS, verbose\u001b[39m=\u001b[39;49m\u001b[39m1\u001b[39;49m\n\u001b[0;32m      <a href='vscode-notebook-cell:/c%3A/Users/AAYUSH/OneDrive/Desktop/New%20folder/Plants-Disease-Detection-using-Tensorflow-and-OpenCV-main/Plants-Disease-Detection-using-Tensorflow-and-OpenCV-main/plant-disease-detection-Training.ipynb#X25sZmlsZQ%3D%3D?line=6'>7</a>\u001b[0m     )\n",
      "File \u001b[1;32m~\\AppData\\Local\\Packages\\PythonSoftwareFoundation.Python.3.9_qbz5n2kfra8p0\\LocalCache\\local-packages\\Python39\\site-packages\\keras\\engine\\training.py:2636\u001b[0m, in \u001b[0;36mModel.fit_generator\u001b[1;34m(self, generator, steps_per_epoch, epochs, verbose, callbacks, validation_data, validation_steps, validation_freq, class_weight, max_queue_size, workers, use_multiprocessing, shuffle, initial_epoch)\u001b[0m\n\u001b[0;32m   2624\u001b[0m \u001b[39m\"\"\"Fits the model on data yielded batch-by-batch by a Python generator.\u001b[39;00m\n\u001b[0;32m   2625\u001b[0m \n\u001b[0;32m   2626\u001b[0m \u001b[39mDEPRECATED:\u001b[39;00m\n\u001b[0;32m   2627\u001b[0m \u001b[39m  `Model.fit` now supports generators, so there is no longer any need to\u001b[39;00m\n\u001b[0;32m   2628\u001b[0m \u001b[39m  use this endpoint.\u001b[39;00m\n\u001b[0;32m   2629\u001b[0m \u001b[39m\"\"\"\u001b[39;00m\n\u001b[0;32m   2630\u001b[0m warnings\u001b[39m.\u001b[39mwarn(\n\u001b[0;32m   2631\u001b[0m     \u001b[39m\"\u001b[39m\u001b[39m`Model.fit_generator` is deprecated and \u001b[39m\u001b[39m\"\u001b[39m\n\u001b[0;32m   2632\u001b[0m     \u001b[39m\"\u001b[39m\u001b[39mwill be removed in a future version. \u001b[39m\u001b[39m\"\u001b[39m\n\u001b[0;32m   2633\u001b[0m     \u001b[39m\"\u001b[39m\u001b[39mPlease use `Model.fit`, which supports generators.\u001b[39m\u001b[39m\"\u001b[39m,\n\u001b[0;32m   2634\u001b[0m     stacklevel\u001b[39m=\u001b[39m\u001b[39m2\u001b[39m,\n\u001b[0;32m   2635\u001b[0m )\n\u001b[1;32m-> 2636\u001b[0m \u001b[39mreturn\u001b[39;00m \u001b[39mself\u001b[39;49m\u001b[39m.\u001b[39;49mfit(\n\u001b[0;32m   2637\u001b[0m     generator,\n\u001b[0;32m   2638\u001b[0m     steps_per_epoch\u001b[39m=\u001b[39;49msteps_per_epoch,\n\u001b[0;32m   2639\u001b[0m     epochs\u001b[39m=\u001b[39;49mepochs,\n\u001b[0;32m   2640\u001b[0m     verbose\u001b[39m=\u001b[39;49mverbose,\n\u001b[0;32m   2641\u001b[0m     callbacks\u001b[39m=\u001b[39;49mcallbacks,\n\u001b[0;32m   2642\u001b[0m     validation_data\u001b[39m=\u001b[39;49mvalidation_data,\n\u001b[0;32m   2643\u001b[0m     validation_steps\u001b[39m=\u001b[39;49mvalidation_steps,\n\u001b[0;32m   2644\u001b[0m     validation_freq\u001b[39m=\u001b[39;49mvalidation_freq,\n\u001b[0;32m   2645\u001b[0m     class_weight\u001b[39m=\u001b[39;49mclass_weight,\n\u001b[0;32m   2646\u001b[0m     max_queue_size\u001b[39m=\u001b[39;49mmax_queue_size,\n\u001b[0;32m   2647\u001b[0m     workers\u001b[39m=\u001b[39;49mworkers,\n\u001b[0;32m   2648\u001b[0m     use_multiprocessing\u001b[39m=\u001b[39;49muse_multiprocessing,\n\u001b[0;32m   2649\u001b[0m     shuffle\u001b[39m=\u001b[39;49mshuffle,\n\u001b[0;32m   2650\u001b[0m     initial_epoch\u001b[39m=\u001b[39;49minitial_epoch,\n\u001b[0;32m   2651\u001b[0m )\n",
      "File \u001b[1;32m~\\AppData\\Local\\Packages\\PythonSoftwareFoundation.Python.3.9_qbz5n2kfra8p0\\LocalCache\\local-packages\\Python39\\site-packages\\keras\\utils\\traceback_utils.py:65\u001b[0m, in \u001b[0;36mfilter_traceback.<locals>.error_handler\u001b[1;34m(*args, **kwargs)\u001b[0m\n\u001b[0;32m     63\u001b[0m filtered_tb \u001b[39m=\u001b[39m \u001b[39mNone\u001b[39;00m\n\u001b[0;32m     64\u001b[0m \u001b[39mtry\u001b[39;00m:\n\u001b[1;32m---> 65\u001b[0m     \u001b[39mreturn\u001b[39;00m fn(\u001b[39m*\u001b[39margs, \u001b[39m*\u001b[39m\u001b[39m*\u001b[39mkwargs)\n\u001b[0;32m     66\u001b[0m \u001b[39mexcept\u001b[39;00m \u001b[39mException\u001b[39;00m \u001b[39mas\u001b[39;00m e:\n\u001b[0;32m     67\u001b[0m     filtered_tb \u001b[39m=\u001b[39m _process_traceback_frames(e\u001b[39m.\u001b[39m__traceback__)\n",
      "File \u001b[1;32m~\\AppData\\Local\\Packages\\PythonSoftwareFoundation.Python.3.9_qbz5n2kfra8p0\\LocalCache\\local-packages\\Python39\\site-packages\\keras\\engine\\training.py:1685\u001b[0m, in \u001b[0;36mModel.fit\u001b[1;34m(self, x, y, batch_size, epochs, verbose, callbacks, validation_split, validation_data, shuffle, class_weight, sample_weight, initial_epoch, steps_per_epoch, validation_steps, validation_batch_size, validation_freq, max_queue_size, workers, use_multiprocessing)\u001b[0m\n\u001b[0;32m   1677\u001b[0m \u001b[39mwith\u001b[39;00m tf\u001b[39m.\u001b[39mprofiler\u001b[39m.\u001b[39mexperimental\u001b[39m.\u001b[39mTrace(\n\u001b[0;32m   1678\u001b[0m     \u001b[39m\"\u001b[39m\u001b[39mtrain\u001b[39m\u001b[39m\"\u001b[39m,\n\u001b[0;32m   1679\u001b[0m     epoch_num\u001b[39m=\u001b[39mepoch,\n\u001b[1;32m   (...)\u001b[0m\n\u001b[0;32m   1682\u001b[0m     _r\u001b[39m=\u001b[39m\u001b[39m1\u001b[39m,\n\u001b[0;32m   1683\u001b[0m ):\n\u001b[0;32m   1684\u001b[0m     callbacks\u001b[39m.\u001b[39mon_train_batch_begin(step)\n\u001b[1;32m-> 1685\u001b[0m     tmp_logs \u001b[39m=\u001b[39m \u001b[39mself\u001b[39;49m\u001b[39m.\u001b[39;49mtrain_function(iterator)\n\u001b[0;32m   1686\u001b[0m     \u001b[39mif\u001b[39;00m data_handler\u001b[39m.\u001b[39mshould_sync:\n\u001b[0;32m   1687\u001b[0m         context\u001b[39m.\u001b[39masync_wait()\n",
      "File \u001b[1;32m~\\AppData\\Local\\Packages\\PythonSoftwareFoundation.Python.3.9_qbz5n2kfra8p0\\LocalCache\\local-packages\\Python39\\site-packages\\tensorflow\\python\\util\\traceback_utils.py:150\u001b[0m, in \u001b[0;36mfilter_traceback.<locals>.error_handler\u001b[1;34m(*args, **kwargs)\u001b[0m\n\u001b[0;32m    148\u001b[0m filtered_tb \u001b[39m=\u001b[39m \u001b[39mNone\u001b[39;00m\n\u001b[0;32m    149\u001b[0m \u001b[39mtry\u001b[39;00m:\n\u001b[1;32m--> 150\u001b[0m   \u001b[39mreturn\u001b[39;00m fn(\u001b[39m*\u001b[39margs, \u001b[39m*\u001b[39m\u001b[39m*\u001b[39mkwargs)\n\u001b[0;32m    151\u001b[0m \u001b[39mexcept\u001b[39;00m \u001b[39mException\u001b[39;00m \u001b[39mas\u001b[39;00m e:\n\u001b[0;32m    152\u001b[0m   filtered_tb \u001b[39m=\u001b[39m _process_traceback_frames(e\u001b[39m.\u001b[39m__traceback__)\n",
      "File \u001b[1;32m~\\AppData\\Local\\Packages\\PythonSoftwareFoundation.Python.3.9_qbz5n2kfra8p0\\LocalCache\\local-packages\\Python39\\site-packages\\tensorflow\\python\\eager\\polymorphic_function\\polymorphic_function.py:894\u001b[0m, in \u001b[0;36mFunction.__call__\u001b[1;34m(self, *args, **kwds)\u001b[0m\n\u001b[0;32m    891\u001b[0m compiler \u001b[39m=\u001b[39m \u001b[39m\"\u001b[39m\u001b[39mxla\u001b[39m\u001b[39m\"\u001b[39m \u001b[39mif\u001b[39;00m \u001b[39mself\u001b[39m\u001b[39m.\u001b[39m_jit_compile \u001b[39melse\u001b[39;00m \u001b[39m\"\u001b[39m\u001b[39mnonXla\u001b[39m\u001b[39m\"\u001b[39m\n\u001b[0;32m    893\u001b[0m \u001b[39mwith\u001b[39;00m OptionalXlaContext(\u001b[39mself\u001b[39m\u001b[39m.\u001b[39m_jit_compile):\n\u001b[1;32m--> 894\u001b[0m   result \u001b[39m=\u001b[39m \u001b[39mself\u001b[39m\u001b[39m.\u001b[39m_call(\u001b[39m*\u001b[39margs, \u001b[39m*\u001b[39m\u001b[39m*\u001b[39mkwds)\n\u001b[0;32m    896\u001b[0m new_tracing_count \u001b[39m=\u001b[39m \u001b[39mself\u001b[39m\u001b[39m.\u001b[39mexperimental_get_tracing_count()\n\u001b[0;32m    897\u001b[0m without_tracing \u001b[39m=\u001b[39m (tracing_count \u001b[39m==\u001b[39m new_tracing_count)\n",
      "File \u001b[1;32m~\\AppData\\Local\\Packages\\PythonSoftwareFoundation.Python.3.9_qbz5n2kfra8p0\\LocalCache\\local-packages\\Python39\\site-packages\\tensorflow\\python\\eager\\polymorphic_function\\polymorphic_function.py:926\u001b[0m, in \u001b[0;36mFunction._call\u001b[1;34m(self, *args, **kwds)\u001b[0m\n\u001b[0;32m    923\u001b[0m   \u001b[39mself\u001b[39m\u001b[39m.\u001b[39m_lock\u001b[39m.\u001b[39mrelease()\n\u001b[0;32m    924\u001b[0m   \u001b[39m# In this case we have created variables on the first call, so we run the\u001b[39;00m\n\u001b[0;32m    925\u001b[0m   \u001b[39m# defunned version which is guaranteed to never create variables.\u001b[39;00m\n\u001b[1;32m--> 926\u001b[0m   \u001b[39mreturn\u001b[39;00m \u001b[39mself\u001b[39m\u001b[39m.\u001b[39m_no_variable_creation_fn(\u001b[39m*\u001b[39margs, \u001b[39m*\u001b[39m\u001b[39m*\u001b[39mkwds)  \u001b[39m# pylint: disable=not-callable\u001b[39;00m\n\u001b[0;32m    927\u001b[0m \u001b[39melif\u001b[39;00m \u001b[39mself\u001b[39m\u001b[39m.\u001b[39m_variable_creation_fn \u001b[39mis\u001b[39;00m \u001b[39mnot\u001b[39;00m \u001b[39mNone\u001b[39;00m:\n\u001b[0;32m    928\u001b[0m   \u001b[39m# Release the lock early so that multiple threads can perform the call\u001b[39;00m\n\u001b[0;32m    929\u001b[0m   \u001b[39m# in parallel.\u001b[39;00m\n\u001b[0;32m    930\u001b[0m   \u001b[39mself\u001b[39m\u001b[39m.\u001b[39m_lock\u001b[39m.\u001b[39mrelease()\n",
      "File \u001b[1;32m~\\AppData\\Local\\Packages\\PythonSoftwareFoundation.Python.3.9_qbz5n2kfra8p0\\LocalCache\\local-packages\\Python39\\site-packages\\tensorflow\\python\\eager\\polymorphic_function\\tracing_compiler.py:143\u001b[0m, in \u001b[0;36mTracingCompiler.__call__\u001b[1;34m(self, *args, **kwargs)\u001b[0m\n\u001b[0;32m    140\u001b[0m \u001b[39mwith\u001b[39;00m \u001b[39mself\u001b[39m\u001b[39m.\u001b[39m_lock:\n\u001b[0;32m    141\u001b[0m   (concrete_function,\n\u001b[0;32m    142\u001b[0m    filtered_flat_args) \u001b[39m=\u001b[39m \u001b[39mself\u001b[39m\u001b[39m.\u001b[39m_maybe_define_function(args, kwargs)\n\u001b[1;32m--> 143\u001b[0m \u001b[39mreturn\u001b[39;00m concrete_function\u001b[39m.\u001b[39;49m_call_flat(\n\u001b[0;32m    144\u001b[0m     filtered_flat_args, captured_inputs\u001b[39m=\u001b[39;49mconcrete_function\u001b[39m.\u001b[39;49mcaptured_inputs)\n",
      "File \u001b[1;32m~\\AppData\\Local\\Packages\\PythonSoftwareFoundation.Python.3.9_qbz5n2kfra8p0\\LocalCache\\local-packages\\Python39\\site-packages\\tensorflow\\python\\eager\\polymorphic_function\\monomorphic_function.py:1757\u001b[0m, in \u001b[0;36mConcreteFunction._call_flat\u001b[1;34m(self, args, captured_inputs, cancellation_manager)\u001b[0m\n\u001b[0;32m   1753\u001b[0m possible_gradient_type \u001b[39m=\u001b[39m gradients_util\u001b[39m.\u001b[39mPossibleTapeGradientTypes(args)\n\u001b[0;32m   1754\u001b[0m \u001b[39mif\u001b[39;00m (possible_gradient_type \u001b[39m==\u001b[39m gradients_util\u001b[39m.\u001b[39mPOSSIBLE_GRADIENT_TYPES_NONE\n\u001b[0;32m   1755\u001b[0m     \u001b[39mand\u001b[39;00m executing_eagerly):\n\u001b[0;32m   1756\u001b[0m   \u001b[39m# No tape is watching; skip to running the function.\u001b[39;00m\n\u001b[1;32m-> 1757\u001b[0m   \u001b[39mreturn\u001b[39;00m \u001b[39mself\u001b[39m\u001b[39m.\u001b[39m_build_call_outputs(\u001b[39mself\u001b[39;49m\u001b[39m.\u001b[39;49m_inference_function\u001b[39m.\u001b[39;49mcall(\n\u001b[0;32m   1758\u001b[0m       ctx, args, cancellation_manager\u001b[39m=\u001b[39;49mcancellation_manager))\n\u001b[0;32m   1759\u001b[0m forward_backward \u001b[39m=\u001b[39m \u001b[39mself\u001b[39m\u001b[39m.\u001b[39m_select_forward_and_backward_functions(\n\u001b[0;32m   1760\u001b[0m     args,\n\u001b[0;32m   1761\u001b[0m     possible_gradient_type,\n\u001b[0;32m   1762\u001b[0m     executing_eagerly)\n\u001b[0;32m   1763\u001b[0m forward_function, args_with_tangents \u001b[39m=\u001b[39m forward_backward\u001b[39m.\u001b[39mforward()\n",
      "File \u001b[1;32m~\\AppData\\Local\\Packages\\PythonSoftwareFoundation.Python.3.9_qbz5n2kfra8p0\\LocalCache\\local-packages\\Python39\\site-packages\\tensorflow\\python\\eager\\polymorphic_function\\monomorphic_function.py:381\u001b[0m, in \u001b[0;36m_EagerDefinedFunction.call\u001b[1;34m(self, ctx, args, cancellation_manager)\u001b[0m\n\u001b[0;32m    379\u001b[0m \u001b[39mwith\u001b[39;00m _InterpolateFunctionError(\u001b[39mself\u001b[39m):\n\u001b[0;32m    380\u001b[0m   \u001b[39mif\u001b[39;00m cancellation_manager \u001b[39mis\u001b[39;00m \u001b[39mNone\u001b[39;00m:\n\u001b[1;32m--> 381\u001b[0m     outputs \u001b[39m=\u001b[39m execute\u001b[39m.\u001b[39;49mexecute(\n\u001b[0;32m    382\u001b[0m         \u001b[39mstr\u001b[39;49m(\u001b[39mself\u001b[39;49m\u001b[39m.\u001b[39;49msignature\u001b[39m.\u001b[39;49mname),\n\u001b[0;32m    383\u001b[0m         num_outputs\u001b[39m=\u001b[39;49m\u001b[39mself\u001b[39;49m\u001b[39m.\u001b[39;49m_num_outputs,\n\u001b[0;32m    384\u001b[0m         inputs\u001b[39m=\u001b[39;49margs,\n\u001b[0;32m    385\u001b[0m         attrs\u001b[39m=\u001b[39;49mattrs,\n\u001b[0;32m    386\u001b[0m         ctx\u001b[39m=\u001b[39;49mctx)\n\u001b[0;32m    387\u001b[0m   \u001b[39melse\u001b[39;00m:\n\u001b[0;32m    388\u001b[0m     outputs \u001b[39m=\u001b[39m execute\u001b[39m.\u001b[39mexecute_with_cancellation(\n\u001b[0;32m    389\u001b[0m         \u001b[39mstr\u001b[39m(\u001b[39mself\u001b[39m\u001b[39m.\u001b[39msignature\u001b[39m.\u001b[39mname),\n\u001b[0;32m    390\u001b[0m         num_outputs\u001b[39m=\u001b[39m\u001b[39mself\u001b[39m\u001b[39m.\u001b[39m_num_outputs,\n\u001b[1;32m   (...)\u001b[0m\n\u001b[0;32m    393\u001b[0m         ctx\u001b[39m=\u001b[39mctx,\n\u001b[0;32m    394\u001b[0m         cancellation_manager\u001b[39m=\u001b[39mcancellation_manager)\n",
      "File \u001b[1;32m~\\AppData\\Local\\Packages\\PythonSoftwareFoundation.Python.3.9_qbz5n2kfra8p0\\LocalCache\\local-packages\\Python39\\site-packages\\tensorflow\\python\\eager\\execute.py:52\u001b[0m, in \u001b[0;36mquick_execute\u001b[1;34m(op_name, num_outputs, inputs, attrs, ctx, name)\u001b[0m\n\u001b[0;32m     50\u001b[0m \u001b[39mtry\u001b[39;00m:\n\u001b[0;32m     51\u001b[0m   ctx\u001b[39m.\u001b[39mensure_initialized()\n\u001b[1;32m---> 52\u001b[0m   tensors \u001b[39m=\u001b[39m pywrap_tfe\u001b[39m.\u001b[39;49mTFE_Py_Execute(ctx\u001b[39m.\u001b[39;49m_handle, device_name, op_name,\n\u001b[0;32m     53\u001b[0m                                       inputs, attrs, num_outputs)\n\u001b[0;32m     54\u001b[0m \u001b[39mexcept\u001b[39;00m core\u001b[39m.\u001b[39m_NotOkStatusException \u001b[39mas\u001b[39;00m e:\n\u001b[0;32m     55\u001b[0m   \u001b[39mif\u001b[39;00m name \u001b[39mis\u001b[39;00m \u001b[39mnot\u001b[39;00m \u001b[39mNone\u001b[39;00m:\n",
      "\u001b[1;31mKeyboardInterrupt\u001b[0m: "
     ]
    }
   ],
   "source": [
    "#Fitting Model\n",
    "history = model.fit_generator(\n",
    "    aug.flow(x_train, y_train, batch_size=BS),\n",
    "    validation_data=(x_test, y_test),\n",
    "    steps_per_epoch=len(x_train) // BS,\n",
    "    epochs=EPOCHS, verbose=1\n",
    "    )"
   ]
  },
  {
   "attachments": {},
   "cell_type": "markdown",
   "metadata": {
    "_uuid": "9ca1a4489bd624c69a13cd37c0c2306ac8de55c2",
    "id": "qmEqqjng4ZTC"
   },
   "source": [
    "Model Accuracy"
   ]
  },
  {
   "cell_type": "code",
   "execution_count": null,
   "metadata": {
    "_uuid": "bb44f3d0b7e2862bc7d1a032612ebfd48212c1fe",
    "colab": {
     "base_uri": "https://localhost:8080/"
    },
    "executionInfo": {
     "elapsed": 1720,
     "status": "ok",
     "timestamp": 1604376938873,
     "user": {
      "displayName": "Vaibhav Wagaskar",
      "photoUrl": "",
      "userId": "18291676089604901220"
     },
     "user_tz": -330
    },
    "id": "mP34m5l34ZTD",
    "outputId": "59236a5a-a552-4420-b7d1-bbf5d9fd5659"
   },
   "outputs": [
    {
     "name": "stdout",
     "output_type": "stream",
     "text": [
      "[INFO] Calculating model accuracy\n",
      "54/54 [==============================] - 7s 119ms/step - loss: 0.0353 - accuracy: 0.0093\n",
      "Test Accuracy: 0.9259259328246117\n"
     ]
    }
   ],
   "source": [
    "print(\"[INFO] Calculating model accuracy\")\n",
    "scores = model.evaluate(x_test, y_test)\n",
    "print(f\"Test Accuracy: {scores[1]*100}\")"
   ]
  },
  {
   "cell_type": "code",
   "execution_count": null,
   "metadata": {
    "executionInfo": {
     "elapsed": 2007,
     "status": "ok",
     "timestamp": 1604376952167,
     "user": {
      "displayName": "Vaibhav Wagaskar",
      "photoUrl": "",
      "userId": "18291676089604901220"
     },
     "user_tz": -330
    },
    "id": "bHEC2HyWLnHG"
   },
   "outputs": [],
   "source": [
    "# Save the model using TensorFlow SavedModel format\n",
    "model.save('my_model.h5')"
   ]
  },
  {
   "cell_type": "code",
   "execution_count": null,
   "metadata": {
    "colab": {
     "base_uri": "https://localhost:8080/"
    },
    "executionInfo": {
     "elapsed": 2586,
     "status": "ok",
     "timestamp": 1604376976139,
     "user": {
      "displayName": "Vaibhav Wagaskar",
      "photoUrl": "",
      "userId": "18291676089604901220"
     },
     "user_tz": -330
    },
    "id": "Z0F35n2shbj4",
    "outputId": "a652149d-f458-4e85-e7de-6dac32adb0fe"
   },
   "outputs": [
    {
     "name": "stdout",
     "output_type": "stream",
     "text": [
      "216/216 [==============================] - 26s 120ms/step - loss: 0.0342 - accuracy: 0.0126\n",
      "Test Accuracy: 1.25868059694767\n"
     ]
    }
   ],
   "source": [
    "scores = model.evaluate(x_train, y_train)\n",
    "print(f\"Test Accuracy: {scores[1]*100}\")"
   ]
  },
  {
   "cell_type": "code",
   "execution_count": null,
   "metadata": {
    "id": "Z7FrhSXUjlVz"
   },
   "outputs": [],
   "source": []
  }
 ],
 "metadata": {
  "accelerator": "GPU",
  "colab": {
   "collapsed_sections": [],
   "name": "plant-disease-detection-Training.ipynb",
   "provenance": []
  },
  "kernelspec": {
   "display_name": "Python 3",
   "language": "python",
   "name": "python3"
  },
  "language_info": {
   "codemirror_mode": {
    "name": "ipython",
    "version": 3
   },
   "file_extension": ".py",
   "mimetype": "text/x-python",
   "name": "python",
   "nbconvert_exporter": "python",
   "pygments_lexer": "ipython3",
   "version": "3.9.10"
  }
 },
 "nbformat": 4,
 "nbformat_minor": 1
}
